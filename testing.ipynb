{
 "cells": [
  {
   "metadata": {},
   "cell_type": "code",
   "outputs": [],
   "execution_count": 183,
   "source": [
    "import math\n",
    "import time\n",
    "\n",
    "import matplotlib.pyplot as plt\n",
    "import torch\n",
    "from torch import nn, optim\n",
    "from torch.utils.data import DataLoader\n",
    "from torchvision import datasets, transforms\n",
    "import numpy as np\n",
    "from torchvision.transforms import Lambda\n",
    "from torch.nn import functional as F\n",
    "from scipy import io as sio"
   ],
   "id": "390705a92edd1051"
  },
  {
   "metadata": {},
   "cell_type": "code",
   "outputs": [
    {
     "name": "stdout",
     "output_type": "stream",
     "text": [
      "Using device: cuda\n",
      "NVIDIA GeForce RTX 3050 Laptop GPU\n"
     ]
    }
   ],
   "execution_count": 184,
   "source": [
    "# set the selected device for the tensors\n",
    "device = torch.device('cuda' if torch.cuda.is_available() else 'cpu')\n",
    "print(f\"Using device: {device}\")\n",
    "print(torch.cuda.get_device_name(device))\n",
    "torch.set_default_device(device)"
   ],
   "id": "6e1305b22ad86edb"
  },
  {
   "metadata": {},
   "cell_type": "code",
   "outputs": [],
   "execution_count": null,
   "source": [
    "test_transform = transforms.Compose([\n",
    "    transforms.Resize(256),\n",
    "    transforms.CenterCrop(224),\n",
    "    transforms.ToTensor(),\n",
    "    transforms.Normalize(mean=[0.4330, 0.3819, 0.2964],std=[0.2588, 0.2094, 0.2212])\n",
    "])"
   ],
   "id": "9ce9de45f15713a6"
  },
  {
   "metadata": {},
   "cell_type": "code",
   "outputs": [],
   "execution_count": null,
   "source": [
    "test_dataset = datasets.Flowers102(\n",
    "    root='flowers102',\n",
    "    split=\"test\",\n",
    "    download=True,\n",
    "    transform=test_transform,\n",
    ")"
   ],
   "id": "7f0002a8b4847845"
  },
  {
   "metadata": {},
   "cell_type": "code",
   "outputs": [],
   "execution_count": null,
   "source": [
    "batch_size = 16\n",
    "test_loader = DataLoader(test_dataset, batch_size, shuffle=True, num_workers=2)"
   ],
   "id": "9607a80240a6feba"
  },
  {
   "metadata": {},
   "cell_type": "code",
   "outputs": [],
   "execution_count": null,
   "source": [
    "class MyNN4(nn.Module):\n",
    "    def __init__(self):\n",
    "        super().__init__()\n",
    "        \n",
    "        self.conv1 = self.make_conv(3, 32, 3, 1, 1)\n",
    "        self.conv2 = self.make_conv(32, 32, 3, 1, 1)  \n",
    "        \n",
    "        self.conv3 = self.make_conv(32, 64, 3, 1, 1)\n",
    "        self.conv4 = self.make_conv(64, 64, 3, 1, 1)  \n",
    "        \n",
    "        self.conv5 = self.make_conv(64, 128, 3, 1, 1)\n",
    "        self.conv6 = self.make_conv(128, 128, 3, 1, 1)\n",
    "        self.conv7 = self.make_conv(128, 128, 3, 1, 1)\n",
    "        \n",
    "        self.maxpool = nn.MaxPool2d(kernel_size = 2, stride = 2)\n",
    "        self.flatten = nn.Flatten()\n",
    "        \n",
    "        self.fc1 = self.fully_connected(128*28*28, 4096)\n",
    "        self.fc2 = self.fully_connected(4096, 1024)\n",
    "        \n",
    "        self.fc3 = nn.Linear(1024, 102)\n",
    "        \n",
    "    def make_conv(self, in_feat, out_feat, kernel, stride, padding):\n",
    "        return nn.Sequential(\n",
    "            nn.Conv2d(in_channels=in_feat, out_channels=out_feat, kernel_size=kernel, stride=stride, padding=padding),\n",
    "            nn.BatchNorm2d(out_feat),\n",
    "            nn.ReLU()\n",
    "        )\n",
    "    def fully_connected(self, in_channels, out_channels):\n",
    "        return nn.Sequential(\n",
    "            nn.Linear(in_features=in_channels, out_features=out_channels),\n",
    "            nn.ReLU(),\n",
    "            nn.Dropout(0.5)\n",
    "        )\n",
    "    \n",
    "    def forward(self, x):\n",
    "        x = self.conv1(x)\n",
    "        x = self.conv2(x)\n",
    "        \n",
    "        x = self.maxpool(x)\n",
    "        x = self.conv3(x)\n",
    "        x = self.conv4(x)\n",
    "        \n",
    "        x = self.maxpool(x)\n",
    "        x = self.conv5(x)\n",
    "        x = self.conv6(x)\n",
    "        x = self.conv7(x)\n",
    "        \n",
    "        x = self.maxpool(x)\n",
    "        x = self.flatten(x)\n",
    "        x = self.fc1(x)\n",
    "        x = self.fc2(x)\n",
    "        x = self.fc3(x)\n",
    "        return x"
   ],
   "id": "16002b2db632e291"
  },
  {
   "metadata": {},
   "cell_type": "code",
   "outputs": [],
   "execution_count": null,
   "source": [
    "model = MyNN4().to(device)\n",
    "model.load_state_dict(torch.load(\"./checkpoints/checkpoint.pth\"))"
   ],
   "id": "24ad9751e35de31c"
  },
  {
   "metadata": {},
   "cell_type": "code",
   "outputs": [],
   "execution_count": null,
   "source": [
    "def test(model, valid_loader):\n",
    "    model.eval()\n",
    "    with torch.no_grad():\n",
    "        acc = .0\n",
    "        for i, data in enumerate(valid_loader):\n",
    "            X = data[0].to(device)\n",
    "            y = data[1].to(device)\n",
    "\n",
    "            predicted = model(X)\n",
    "            \n",
    "            # Check each image's prediction\n",
    "            for id in range(len(X)):\n",
    "                if torch.argmax(predicted[id]).detach().item() == torch.argmax(y[id]).detach().item():\n",
    "                    acc += 1\n",
    "    model.train()\n",
    "    return acc/len(valid_loader.dataset)"
   ],
   "id": "9b67509a8601e19e"
  }
 ],
 "metadata": {
  "kernelspec": {
   "display_name": "Python 3",
   "language": "python",
   "name": "python3"
  },
  "language_info": {
   "codemirror_mode": {
    "name": "ipython",
    "version": 2
   },
   "file_extension": ".py",
   "mimetype": "text/x-python",
   "name": "python",
   "nbconvert_exporter": "python",
   "pygments_lexer": "ipython2",
   "version": "2.7.6"
  }
 },
 "nbformat": 4,
 "nbformat_minor": 5
}
