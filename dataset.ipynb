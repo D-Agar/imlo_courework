{
 "cells": [
  {
   "metadata": {},
   "cell_type": "markdown",
   "source": [
    "# Intelligent Systems - Individual Project Assessment\n",
    "I aim to split the code into 3 sections:\n",
    "1. Generating and analysing the datset\n",
    "2. Developing my classification model\n",
    "3. Training my model"
   ],
   "id": "3c02b4c20834a4a8"
  },
  {
   "cell_type": "code",
   "id": "initial_id",
   "metadata": {
    "collapsed": true,
    "ExecuteTime": {
     "end_time": "2024-04-29T14:52:59.923239Z",
     "start_time": "2024-04-29T14:52:59.919599Z"
    }
   },
   "source": [
    "import matplotlib.pyplot as plt\n",
    "import torch\n",
    "from torch import nn\n",
    "from torch.utils.data import DataLoader\n",
    "from torchvision import datasets, transforms\n",
    "import scipy.io as sio\n",
    "import numpy as np"
   ],
   "outputs": [],
   "execution_count": 559
  },
  {
   "metadata": {
    "ExecuteTime": {
     "end_time": "2024-04-29T14:52:59.931817Z",
     "start_time": "2024-04-29T14:52:59.924364Z"
    }
   },
   "cell_type": "code",
   "source": [
    "# set the selected device for the tensors\n",
    "device = torch.device('cuda' if torch.cuda.is_available() else 'cpu')\n",
    "print(f\"Using device: {device}\")\n",
    "print(torch.cuda.get_device_name(device))"
   ],
   "id": "848484533890309c",
   "outputs": [
    {
     "name": "stdout",
     "output_type": "stream",
     "text": [
      "Using device: cuda\n",
      "NVIDIA GeForce RTX 3050 Laptop GPU\n"
     ]
    }
   ],
   "execution_count": 560
  },
  {
   "metadata": {},
   "cell_type": "markdown",
   "source": "## Dataset",
   "id": "f7e918a0a496f59f"
  },
  {
   "metadata": {},
   "cell_type": "markdown",
   "source": [
    "### Data Augmentation\n",
    "After inspection of the dataset, we have PIL images. Therefore, we will convert these to Tensors.\n",
    "\n",
    "The values used for the normalisation of data were calculated from the ImageNet training datase"
   ],
   "id": "47ed70104b71258f"
  },
  {
   "metadata": {
    "ExecuteTime": {
     "end_time": "2024-04-29T14:52:59.940761Z",
     "start_time": "2024-04-29T14:52:59.932937Z"
    }
   },
   "cell_type": "code",
   "source": [
    "# We perform random transformations to better generalise the training dataset\n",
    "train_transform = transforms.Compose([\n",
    "    transforms.RandomResizedCrop(size=(224, 224), antialias=True),\n",
    "    transforms.RandomHorizontalFlip(p=0.5),\n",
    "    transforms.ToTensor(),\n",
    "    transforms.Normalize(mean=[0.485, 0.456, 0.406],\n",
    "                 std=[0.229, 0.224, 0.225]) \n",
    "])\n",
    "valid_transform = transforms.Compose([\n",
    "    transforms.Resize(256),\n",
    "    transforms.CenterCrop(224),\n",
    "    transforms.ToTensor(),\n",
    "    transforms.Normalize(mean=[0.485, 0.456, 0.406],\n",
    "                 std=[0.229, 0.224, 0.225])\n",
    "])\n",
    "\n",
    "test_transform = transforms.Compose([\n",
    "    transforms.Resize(256),\n",
    "    transforms.CenterCrop(224),\n",
    "    transforms.ToTensor(),\n",
    "    transforms.Normalize(mean=[0.485, 0.456, 0.406],\n",
    "                 std=[0.229, 0.224, 0.225])\n",
    "])"
   ],
   "id": "c48f59331aa7647",
   "outputs": [],
   "execution_count": 561
  },
  {
   "metadata": {},
   "cell_type": "markdown",
   "source": "### Downloading and splitting the dataset",
   "id": "610a373e39b3741d"
  },
  {
   "metadata": {
    "ExecuteTime": {
     "end_time": "2024-04-29T14:52:59.976259Z",
     "start_time": "2024-04-29T14:52:59.940761Z"
    }
   },
   "cell_type": "code",
   "source": [
    "# I will download the data from PyTorch's website and use the appropriate data loader\n",
    "train_dataset = datasets.Flowers102(\n",
    "    root='flowers102',\n",
    "    split=\"train\",\n",
    "    download=True,\n",
    "    transform=train_transform\n",
    ")\n",
    "\n",
    "valid_dataset = datasets.Flowers102(\n",
    "    root='flowers102',\n",
    "    split=\"val\",\n",
    "    download=True,\n",
    "    transform=valid_transform\n",
    ")\n",
    "\n",
    "test_dataset = datasets.Flowers102(\n",
    "    root='flowers102',\n",
    "    split=\"test\",\n",
    "    download=True,\n",
    "    transform=test_transform\n",
    ")\n",
    "\n",
    "# Get the targets and ids\n",
    "image_labels = sio.loadmat(\"flowers102/flowers-102/imagelabels\")\n",
    "setids = sio.loadmat(\"flowers102/flowers-102/setid\")"
   ],
   "id": "bd6d67145590aa00",
   "outputs": [],
   "execution_count": 562
  },
  {
   "metadata": {
    "ExecuteTime": {
     "end_time": "2024-04-29T14:52:59.991366Z",
     "start_time": "2024-04-29T14:52:59.977302Z"
    }
   },
   "cell_type": "code",
   "source": [
    "# Look at the data\n",
    "train_dataset[0]"
   ],
   "id": "d2fd6a4444d4ae13",
   "outputs": [
    {
     "data": {
      "text/plain": [
       "(tensor([[[ 0.6049,  0.5707,  0.7077,  ..., -1.9124, -1.9124, -1.9124],\n",
       "          [ 0.6734,  0.6392,  0.7591,  ..., -1.9124, -1.9124, -1.9467],\n",
       "          [ 0.6906,  0.6392,  0.7933,  ..., -1.8953, -1.9124, -1.9295],\n",
       "          ...,\n",
       "          [-1.9638, -1.9124, -1.8782,  ...,  1.0159,  0.9988,  0.9646],\n",
       "          [-1.9467, -1.8953, -1.8610,  ...,  0.9988,  0.9817,  0.9817],\n",
       "          [-1.8953, -1.8953, -1.8268,  ...,  1.0502,  1.0331,  1.0331]],\n",
       " \n",
       "         [[ 0.4503,  0.4153,  0.5903,  ..., -1.8606, -1.8431, -1.8431],\n",
       "          [ 0.4328,  0.3978,  0.5728,  ..., -1.8431, -1.8431, -1.8431],\n",
       "          [ 0.4503,  0.3978,  0.6078,  ..., -1.8256, -1.8256, -1.8256],\n",
       "          ...,\n",
       "          [-1.6681, -1.6331, -1.5980,  ...,  0.6779,  0.6779,  0.6779],\n",
       "          [-1.6681, -1.6331, -1.6155,  ...,  0.6954,  0.6954,  0.6954],\n",
       "          [-1.6506, -1.6506, -1.6155,  ...,  0.7829,  0.7829,  0.7829]],\n",
       " \n",
       "         [[ 1.2805,  1.2282,  1.3851,  ..., -1.6999, -1.6999, -1.6999],\n",
       "          [ 1.2805,  1.2457,  1.4025,  ..., -1.6999, -1.6999, -1.7173],\n",
       "          [ 1.2980,  1.2457,  1.4374,  ..., -1.6824, -1.6824, -1.6999],\n",
       "          ...,\n",
       "          [-1.6476, -1.6302, -1.6127,  ...,  1.4374,  1.4374,  1.4200],\n",
       "          [-1.6302, -1.6127, -1.5953,  ...,  1.4374,  1.4374,  1.4374],\n",
       "          [-1.5779, -1.5953, -1.5779,  ...,  1.5071,  1.5071,  1.5071]]]),\n",
       " 0)"
      ]
     },
     "execution_count": 563,
     "metadata": {},
     "output_type": "execute_result"
    }
   ],
   "execution_count": 563
  },
  {
   "metadata": {
    "ExecuteTime": {
     "end_time": "2024-04-29T14:53:00.006743Z",
     "start_time": "2024-04-29T14:52:59.992438Z"
    }
   },
   "cell_type": "code",
   "source": [
    "# look at the first training sample\n",
    "image, label = train_dataset[0]\n",
    "print(f\"Image shape: {image} -> [batch, height, width]\")\n",
    "print(f\"Label: {image_labels['labels'][label]}\")"
   ],
   "id": "abb62d68edf8bc2e",
   "outputs": [
    {
     "name": "stdout",
     "output_type": "stream",
     "text": [
      "Image shape: tensor([[[0.8961, 0.9132, 0.7248,  ..., 1.1872, 1.1700, 1.1015],\n",
      "         [0.8961, 0.9303, 0.8447,  ..., 1.0844, 0.9817, 0.9646],\n",
      "         [0.9303, 0.9303, 0.8618,  ..., 1.0673, 1.0159, 1.0331],\n",
      "         ...,\n",
      "         [0.9988, 0.9474, 0.8276,  ..., 0.5536, 0.5364, 0.5536],\n",
      "         [1.0159, 1.0331, 0.8961,  ..., 0.3994, 0.3823, 0.3652],\n",
      "         [0.9474, 0.9474, 0.8618,  ..., 0.4851, 0.4851, 0.4679]],\n",
      "\n",
      "        [[0.5203, 0.5378, 0.4328,  ..., 1.2031, 1.1506, 1.0805],\n",
      "         [0.6254, 0.6604, 0.6078,  ..., 1.0630, 0.9230, 0.8880],\n",
      "         [0.6604, 0.6604, 0.6254,  ..., 1.0805, 0.9755, 0.9580],\n",
      "         ...,\n",
      "         [0.3452, 0.2752, 0.2577,  ..., 0.6604, 0.6429, 0.6254],\n",
      "         [0.3627, 0.3627, 0.3627,  ..., 0.5553, 0.5378, 0.5203],\n",
      "         [0.2927, 0.2927, 0.3277,  ..., 0.6429, 0.6078, 0.5903]],\n",
      "\n",
      "        [[1.4025, 1.4200, 1.2980,  ..., 1.8557, 1.8383, 1.7685],\n",
      "         [1.4722, 1.5071, 1.3851,  ..., 1.7860, 1.6640, 1.5942],\n",
      "         [1.5071, 1.5071, 1.4025,  ..., 1.7163, 1.6465, 1.6291],\n",
      "         ...,\n",
      "         [1.3851, 1.3154, 1.2980,  ..., 1.1237, 1.1062, 1.1062],\n",
      "         [1.3851, 1.3851, 1.3502,  ..., 1.0888, 1.0714, 1.0539],\n",
      "         [1.3154, 1.3154, 1.3328,  ..., 1.1411, 1.1411, 1.1237]]]) -> [batch, height, width]\n",
      "Label: [77 77 77 ... 62 62 62]\n"
     ]
    }
   ],
   "execution_count": 564
  },
  {
   "metadata": {
    "ExecuteTime": {
     "end_time": "2024-04-29T14:53:00.011520Z",
     "start_time": "2024-04-29T14:53:00.007748Z"
    }
   },
   "cell_type": "code",
   "source": [
    "batch_size = 64\n",
    "train_loader = DataLoader(train_dataset, batch_size=batch_size, shuffle=True)"
   ],
   "id": "3d4f27ef3fe54e9b",
   "outputs": [],
   "execution_count": 565
  },
  {
   "metadata": {},
   "cell_type": "markdown",
   "source": "### Visualise",
   "id": "eed9848820c891b8"
  },
  {
   "metadata": {
    "ExecuteTime": {
     "end_time": "2024-04-29T15:01:25.815695Z",
     "start_time": "2024-04-29T15:01:25.131260Z"
    }
   },
   "cell_type": "code",
   "source": [
    "dataiter = iter(train_loader)\n",
    "images, labels = next(dataiter)\n",
    "for i in range(9):\n",
    "    plt.imshow(images[i].numpy())\n",
    "    plt.title(f\"Label: {labels[i]}\")\n",
    "    plt.axis('off')\n",
    "plt.show()"
   ],
   "id": "20d47587c150a1b9",
   "outputs": [
    {
     "ename": "TypeError",
     "evalue": "Invalid shape (3, 224, 224) for image data",
     "output_type": "error",
     "traceback": [
      "\u001B[1;31m---------------------------------------------------------------------------\u001B[0m",
      "\u001B[1;31mTypeError\u001B[0m                                 Traceback (most recent call last)",
      "Cell \u001B[1;32mIn[567], line 4\u001B[0m\n\u001B[0;32m      2\u001B[0m images, labels \u001B[38;5;241m=\u001B[39m \u001B[38;5;28mnext\u001B[39m(dataiter)\n\u001B[0;32m      3\u001B[0m \u001B[38;5;28;01mfor\u001B[39;00m i \u001B[38;5;129;01min\u001B[39;00m \u001B[38;5;28mrange\u001B[39m(\u001B[38;5;241m9\u001B[39m):\n\u001B[1;32m----> 4\u001B[0m     plt\u001B[38;5;241m.\u001B[39mimshow(images[i]\u001B[38;5;241m.\u001B[39mnumpy())\n\u001B[0;32m      5\u001B[0m     plt\u001B[38;5;241m.\u001B[39mtitle(\u001B[38;5;124mf\u001B[39m\u001B[38;5;124m\"\u001B[39m\u001B[38;5;124mLabel: \u001B[39m\u001B[38;5;132;01m{\u001B[39;00mlabels[i]\u001B[38;5;132;01m}\u001B[39;00m\u001B[38;5;124m\"\u001B[39m)\n\u001B[0;32m      6\u001B[0m     plt\u001B[38;5;241m.\u001B[39maxis(\u001B[38;5;124m'\u001B[39m\u001B[38;5;124moff\u001B[39m\u001B[38;5;124m'\u001B[39m)\n",
      "File \u001B[1;32m~\\anaconda3\\envs\\coursework\\Lib\\site-packages\\matplotlib\\pyplot.py:3358\u001B[0m, in \u001B[0;36mimshow\u001B[1;34m(X, cmap, norm, aspect, interpolation, alpha, vmin, vmax, origin, extent, interpolation_stage, filternorm, filterrad, resample, url, data, **kwargs)\u001B[0m\n\u001B[0;32m   3337\u001B[0m \u001B[38;5;129m@_copy_docstring_and_deprecators\u001B[39m(Axes\u001B[38;5;241m.\u001B[39mimshow)\n\u001B[0;32m   3338\u001B[0m \u001B[38;5;28;01mdef\u001B[39;00m \u001B[38;5;21mimshow\u001B[39m(\n\u001B[0;32m   3339\u001B[0m     X: ArrayLike \u001B[38;5;241m|\u001B[39m PIL\u001B[38;5;241m.\u001B[39mImage\u001B[38;5;241m.\u001B[39mImage,\n\u001B[1;32m   (...)\u001B[0m\n\u001B[0;32m   3356\u001B[0m     \u001B[38;5;241m*\u001B[39m\u001B[38;5;241m*\u001B[39mkwargs,\n\u001B[0;32m   3357\u001B[0m ) \u001B[38;5;241m-\u001B[39m\u001B[38;5;241m>\u001B[39m AxesImage:\n\u001B[1;32m-> 3358\u001B[0m     __ret \u001B[38;5;241m=\u001B[39m gca()\u001B[38;5;241m.\u001B[39mimshow(\n\u001B[0;32m   3359\u001B[0m         X,\n\u001B[0;32m   3360\u001B[0m         cmap\u001B[38;5;241m=\u001B[39mcmap,\n\u001B[0;32m   3361\u001B[0m         norm\u001B[38;5;241m=\u001B[39mnorm,\n\u001B[0;32m   3362\u001B[0m         aspect\u001B[38;5;241m=\u001B[39maspect,\n\u001B[0;32m   3363\u001B[0m         interpolation\u001B[38;5;241m=\u001B[39minterpolation,\n\u001B[0;32m   3364\u001B[0m         alpha\u001B[38;5;241m=\u001B[39malpha,\n\u001B[0;32m   3365\u001B[0m         vmin\u001B[38;5;241m=\u001B[39mvmin,\n\u001B[0;32m   3366\u001B[0m         vmax\u001B[38;5;241m=\u001B[39mvmax,\n\u001B[0;32m   3367\u001B[0m         origin\u001B[38;5;241m=\u001B[39morigin,\n\u001B[0;32m   3368\u001B[0m         extent\u001B[38;5;241m=\u001B[39mextent,\n\u001B[0;32m   3369\u001B[0m         interpolation_stage\u001B[38;5;241m=\u001B[39minterpolation_stage,\n\u001B[0;32m   3370\u001B[0m         filternorm\u001B[38;5;241m=\u001B[39mfilternorm,\n\u001B[0;32m   3371\u001B[0m         filterrad\u001B[38;5;241m=\u001B[39mfilterrad,\n\u001B[0;32m   3372\u001B[0m         resample\u001B[38;5;241m=\u001B[39mresample,\n\u001B[0;32m   3373\u001B[0m         url\u001B[38;5;241m=\u001B[39murl,\n\u001B[0;32m   3374\u001B[0m         \u001B[38;5;241m*\u001B[39m\u001B[38;5;241m*\u001B[39m({\u001B[38;5;124m\"\u001B[39m\u001B[38;5;124mdata\u001B[39m\u001B[38;5;124m\"\u001B[39m: data} \u001B[38;5;28;01mif\u001B[39;00m data \u001B[38;5;129;01mis\u001B[39;00m \u001B[38;5;129;01mnot\u001B[39;00m \u001B[38;5;28;01mNone\u001B[39;00m \u001B[38;5;28;01melse\u001B[39;00m {}),\n\u001B[0;32m   3375\u001B[0m         \u001B[38;5;241m*\u001B[39m\u001B[38;5;241m*\u001B[39mkwargs,\n\u001B[0;32m   3376\u001B[0m     )\n\u001B[0;32m   3377\u001B[0m     sci(__ret)\n\u001B[0;32m   3378\u001B[0m     \u001B[38;5;28;01mreturn\u001B[39;00m __ret\n",
      "File \u001B[1;32m~\\anaconda3\\envs\\coursework\\Lib\\site-packages\\matplotlib\\__init__.py:1465\u001B[0m, in \u001B[0;36m_preprocess_data.<locals>.inner\u001B[1;34m(ax, data, *args, **kwargs)\u001B[0m\n\u001B[0;32m   1462\u001B[0m \u001B[38;5;129m@functools\u001B[39m\u001B[38;5;241m.\u001B[39mwraps(func)\n\u001B[0;32m   1463\u001B[0m \u001B[38;5;28;01mdef\u001B[39;00m \u001B[38;5;21minner\u001B[39m(ax, \u001B[38;5;241m*\u001B[39margs, data\u001B[38;5;241m=\u001B[39m\u001B[38;5;28;01mNone\u001B[39;00m, \u001B[38;5;241m*\u001B[39m\u001B[38;5;241m*\u001B[39mkwargs):\n\u001B[0;32m   1464\u001B[0m     \u001B[38;5;28;01mif\u001B[39;00m data \u001B[38;5;129;01mis\u001B[39;00m \u001B[38;5;28;01mNone\u001B[39;00m:\n\u001B[1;32m-> 1465\u001B[0m         \u001B[38;5;28;01mreturn\u001B[39;00m func(ax, \u001B[38;5;241m*\u001B[39m\u001B[38;5;28mmap\u001B[39m(sanitize_sequence, args), \u001B[38;5;241m*\u001B[39m\u001B[38;5;241m*\u001B[39mkwargs)\n\u001B[0;32m   1467\u001B[0m     bound \u001B[38;5;241m=\u001B[39m new_sig\u001B[38;5;241m.\u001B[39mbind(ax, \u001B[38;5;241m*\u001B[39margs, \u001B[38;5;241m*\u001B[39m\u001B[38;5;241m*\u001B[39mkwargs)\n\u001B[0;32m   1468\u001B[0m     auto_label \u001B[38;5;241m=\u001B[39m (bound\u001B[38;5;241m.\u001B[39marguments\u001B[38;5;241m.\u001B[39mget(label_namer)\n\u001B[0;32m   1469\u001B[0m                   \u001B[38;5;129;01mor\u001B[39;00m bound\u001B[38;5;241m.\u001B[39mkwargs\u001B[38;5;241m.\u001B[39mget(label_namer))\n",
      "File \u001B[1;32m~\\anaconda3\\envs\\coursework\\Lib\\site-packages\\matplotlib\\axes\\_axes.py:5759\u001B[0m, in \u001B[0;36mAxes.imshow\u001B[1;34m(self, X, cmap, norm, aspect, interpolation, alpha, vmin, vmax, origin, extent, interpolation_stage, filternorm, filterrad, resample, url, **kwargs)\u001B[0m\n\u001B[0;32m   5756\u001B[0m \u001B[38;5;28;01mif\u001B[39;00m aspect \u001B[38;5;129;01mis\u001B[39;00m \u001B[38;5;129;01mnot\u001B[39;00m \u001B[38;5;28;01mNone\u001B[39;00m:\n\u001B[0;32m   5757\u001B[0m     \u001B[38;5;28mself\u001B[39m\u001B[38;5;241m.\u001B[39mset_aspect(aspect)\n\u001B[1;32m-> 5759\u001B[0m im\u001B[38;5;241m.\u001B[39mset_data(X)\n\u001B[0;32m   5760\u001B[0m im\u001B[38;5;241m.\u001B[39mset_alpha(alpha)\n\u001B[0;32m   5761\u001B[0m \u001B[38;5;28;01mif\u001B[39;00m im\u001B[38;5;241m.\u001B[39mget_clip_path() \u001B[38;5;129;01mis\u001B[39;00m \u001B[38;5;28;01mNone\u001B[39;00m:\n\u001B[0;32m   5762\u001B[0m     \u001B[38;5;66;03m# image does not already have clipping set, clip to axes patch\u001B[39;00m\n",
      "File \u001B[1;32m~\\anaconda3\\envs\\coursework\\Lib\\site-packages\\matplotlib\\image.py:723\u001B[0m, in \u001B[0;36m_ImageBase.set_data\u001B[1;34m(self, A)\u001B[0m\n\u001B[0;32m    721\u001B[0m \u001B[38;5;28;01mif\u001B[39;00m \u001B[38;5;28misinstance\u001B[39m(A, PIL\u001B[38;5;241m.\u001B[39mImage\u001B[38;5;241m.\u001B[39mImage):\n\u001B[0;32m    722\u001B[0m     A \u001B[38;5;241m=\u001B[39m pil_to_array(A)  \u001B[38;5;66;03m# Needed e.g. to apply png palette.\u001B[39;00m\n\u001B[1;32m--> 723\u001B[0m \u001B[38;5;28mself\u001B[39m\u001B[38;5;241m.\u001B[39m_A \u001B[38;5;241m=\u001B[39m \u001B[38;5;28mself\u001B[39m\u001B[38;5;241m.\u001B[39m_normalize_image_array(A)\n\u001B[0;32m    724\u001B[0m \u001B[38;5;28mself\u001B[39m\u001B[38;5;241m.\u001B[39m_imcache \u001B[38;5;241m=\u001B[39m \u001B[38;5;28;01mNone\u001B[39;00m\n\u001B[0;32m    725\u001B[0m \u001B[38;5;28mself\u001B[39m\u001B[38;5;241m.\u001B[39mstale \u001B[38;5;241m=\u001B[39m \u001B[38;5;28;01mTrue\u001B[39;00m\n",
      "File \u001B[1;32m~\\anaconda3\\envs\\coursework\\Lib\\site-packages\\matplotlib\\image.py:693\u001B[0m, in \u001B[0;36m_ImageBase._normalize_image_array\u001B[1;34m(A)\u001B[0m\n\u001B[0;32m    691\u001B[0m     A \u001B[38;5;241m=\u001B[39m A\u001B[38;5;241m.\u001B[39msqueeze(\u001B[38;5;241m-\u001B[39m\u001B[38;5;241m1\u001B[39m)  \u001B[38;5;66;03m# If just (M, N, 1), assume scalar and apply colormap.\u001B[39;00m\n\u001B[0;32m    692\u001B[0m \u001B[38;5;28;01mif\u001B[39;00m \u001B[38;5;129;01mnot\u001B[39;00m (A\u001B[38;5;241m.\u001B[39mndim \u001B[38;5;241m==\u001B[39m \u001B[38;5;241m2\u001B[39m \u001B[38;5;129;01mor\u001B[39;00m A\u001B[38;5;241m.\u001B[39mndim \u001B[38;5;241m==\u001B[39m \u001B[38;5;241m3\u001B[39m \u001B[38;5;129;01mand\u001B[39;00m A\u001B[38;5;241m.\u001B[39mshape[\u001B[38;5;241m-\u001B[39m\u001B[38;5;241m1\u001B[39m] \u001B[38;5;129;01min\u001B[39;00m [\u001B[38;5;241m3\u001B[39m, \u001B[38;5;241m4\u001B[39m]):\n\u001B[1;32m--> 693\u001B[0m     \u001B[38;5;28;01mraise\u001B[39;00m \u001B[38;5;167;01mTypeError\u001B[39;00m(\u001B[38;5;124mf\u001B[39m\u001B[38;5;124m\"\u001B[39m\u001B[38;5;124mInvalid shape \u001B[39m\u001B[38;5;132;01m{\u001B[39;00mA\u001B[38;5;241m.\u001B[39mshape\u001B[38;5;132;01m}\u001B[39;00m\u001B[38;5;124m for image data\u001B[39m\u001B[38;5;124m\"\u001B[39m)\n\u001B[0;32m    694\u001B[0m \u001B[38;5;28;01mif\u001B[39;00m A\u001B[38;5;241m.\u001B[39mndim \u001B[38;5;241m==\u001B[39m \u001B[38;5;241m3\u001B[39m:\n\u001B[0;32m    695\u001B[0m     \u001B[38;5;66;03m# If the input data has values outside the valid range (after\u001B[39;00m\n\u001B[0;32m    696\u001B[0m     \u001B[38;5;66;03m# normalisation), we issue a warning and then clip X to the bounds\u001B[39;00m\n\u001B[0;32m    697\u001B[0m     \u001B[38;5;66;03m# - otherwise casting wraps extreme values, hiding outliers and\u001B[39;00m\n\u001B[0;32m    698\u001B[0m     \u001B[38;5;66;03m# making reliable interpretation impossible.\u001B[39;00m\n\u001B[0;32m    699\u001B[0m     high \u001B[38;5;241m=\u001B[39m \u001B[38;5;241m255\u001B[39m \u001B[38;5;28;01mif\u001B[39;00m np\u001B[38;5;241m.\u001B[39missubdtype(A\u001B[38;5;241m.\u001B[39mdtype, np\u001B[38;5;241m.\u001B[39minteger) \u001B[38;5;28;01melse\u001B[39;00m \u001B[38;5;241m1\u001B[39m\n",
      "\u001B[1;31mTypeError\u001B[0m: Invalid shape (3, 224, 224) for image data"
     ]
    },
    {
     "data": {
      "text/plain": [
       "<Figure size 640x480 with 1 Axes>"
      ],
      "image/png": "[encoded data removed]"
     },
     "metadata": {},
     "output_type": "display_data"
    }
   ],
   "execution_count": 567
  }
 ],
 "metadata": {
  "kernelspec": {
   "display_name": "Python 3",
   "language": "python",
   "name": "python3"
  },
  "language_info": {
   "codemirror_mode": {
    "name": "ipython",
    "version": 2
   },
   "file_extension": ".py",
   "mimetype": "text/x-python",
   "name": "python",
   "nbconvert_exporter": "python",
   "pygments_lexer": "ipython2",
   "version": "2.7.6"
  }
 },
 "nbformat": 4,
 "nbformat_minor": 5
}
