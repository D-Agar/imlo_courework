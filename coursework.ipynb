{
 "cells": [
  {
   "metadata": {},
   "cell_type": "markdown",
   "source": [
    "# Intelligent Systems - Individual Project Assessment\n",
    "I aim to split the code into 3 sections:\n",
    "1. Generating and analysing the datset\n",
    "2. Developing my classification model\n",
    "3. Training my model"
   ],
   "id": "3c02b4c20834a4a8"
  },
  {
   "cell_type": "code",
   "id": "initial_id",
   "metadata": {
    "collapsed": true,
    "ExecuteTime": {
     "end_time": "2024-04-29T15:41:05.062098Z",
     "start_time": "2024-04-29T15:41:05.058791Z"
    }
   },
   "source": [
    "import matplotlib.pyplot as plt\n",
    "import torch\n",
    "from torch import nn\n",
    "import torchvision\n",
    "from torch.utils.data import DataLoader\n",
    "from torchvision import datasets, transforms\n",
    "import scipy.io as sio\n",
    "import numpy as np"
   ],
   "outputs": [],
   "execution_count": 604
  },
  {
   "metadata": {
    "ExecuteTime": {
     "end_time": "2024-04-29T15:51:39.874735Z",
     "start_time": "2024-04-29T15:51:39.870222Z"
    }
   },
   "cell_type": "code",
   "source": [
    "# set the selected device for the tensors\n",
    "device = torch.device('cuda' if torch.cuda.is_available() else 'cpu')\n",
    "print(f\"Using device: {device}\")\n",
    "print(torch.cuda.get_device_name(device))\n",
    "torch.set_default_device(device)"
   ],
   "id": "848484533890309c",
   "outputs": [
    {
     "name": "stdout",
     "output_type": "stream",
     "text": [
      "Using device: cuda\n",
      "NVIDIA GeForce RTX 3050 Laptop GPU\n"
     ]
    }
   ],
   "execution_count": 611
  },
  {
   "metadata": {},
   "cell_type": "markdown",
   "source": "## Dataset",
   "id": "f7e918a0a496f59f"
  },
  {
   "metadata": {},
   "cell_type": "markdown",
   "source": [
    "### Data Augmentation\n",
    "After inspection of the dataset, we have PIL images. Therefore, we will convert these to Tensors.\n",
    "\n",
    "The values used for the normalisation of data were calculated from the ImageNet training datase"
   ],
   "id": "47ed70104b71258f"
  },
  {
   "metadata": {
    "ExecuteTime": {
     "end_time": "2024-04-29T15:41:05.078489Z",
     "start_time": "2024-04-29T15:41:05.071532Z"
    }
   },
   "cell_type": "code",
   "source": [
    "# We perform random transformations to better generalise the training dataset\n",
    "train_transform = transforms.Compose([\n",
    "    transforms.RandomResizedCrop(size=(224, 224), antialias=True),\n",
    "    transforms.RandomHorizontalFlip(p=0.5),\n",
    "    transforms.ToTensor(),\n",
    "    transforms.Normalize(mean=[0.485, 0.456, 0.406],\n",
    "                 std=[0.229, 0.224, 0.225]) \n",
    "])\n",
    "valid_transform = transforms.Compose([\n",
    "    transforms.Resize(256),\n",
    "    transforms.CenterCrop(224),\n",
    "    transforms.ToTensor(),\n",
    "    transforms.Normalize(mean=[0.485, 0.456, 0.406],\n",
    "                 std=[0.229, 0.224, 0.225])\n",
    "])\n",
    "\n",
    "test_transform = transforms.Compose([\n",
    "    transforms.Resize(256),\n",
    "    transforms.CenterCrop(224),\n",
    "    transforms.ToTensor(),\n",
    "    transforms.Normalize(mean=[0.485, 0.456, 0.406],\n",
    "                 std=[0.229, 0.224, 0.225])\n",
    "])"
   ],
   "id": "c48f59331aa7647",
   "outputs": [],
   "execution_count": 606
  },
  {
   "metadata": {},
   "cell_type": "markdown",
   "source": "### Downloading and splitting the dataset",
   "id": "610a373e39b3741d"
  },
  {
   "metadata": {
    "ExecuteTime": {
     "end_time": "2024-04-29T15:41:05.114530Z",
     "start_time": "2024-04-29T15:41:05.079495Z"
    }
   },
   "cell_type": "code",
   "source": [
    "# I will download the data from PyTorch's website and use the appropriate data loader\n",
    "train_dataset = datasets.Flowers102(\n",
    "    root='flowers102',\n",
    "    split=\"train\",\n",
    "    download=True,\n",
    "    transform=train_transform\n",
    ")\n",
    "\n",
    "valid_dataset = datasets.Flowers102(\n",
    "    root='flowers102',\n",
    "    split=\"val\",\n",
    "    download=True,\n",
    "    transform=valid_transform\n",
    ")\n",
    "\n",
    "test_dataset = datasets.Flowers102(\n",
    "    root='flowers102',\n",
    "    split=\"test\",\n",
    "    download=True,\n",
    "    transform=test_transform\n",
    ")\n",
    "\n",
    "# Get the targets and ids\n",
    "image_labels = sio.loadmat(\"flowers102/flowers-102/imagelabels\")\n",
    "setids = sio.loadmat(\"flowers102/flowers-102/setid\")"
   ],
   "id": "bd6d67145590aa00",
   "outputs": [],
   "execution_count": 607
  },
  {
   "metadata": {
    "ExecuteTime": {
     "end_time": "2024-04-29T15:41:05.129539Z",
     "start_time": "2024-04-29T15:41:05.116536Z"
    }
   },
   "cell_type": "code",
   "source": [
    "# look at the first training sample\n",
    "image, label = train_dataset[0]\n",
    "print(f\"Image shape: {image.shape} -> [batch, height, width]\")\n",
    "print(f\"Datatype: {image.type}\")\n",
    "print(f\"Label: {image_labels['labels'][label]}\")\n",
    "print(f\"Device tensor is stored on: {image.device}\")"
   ],
   "id": "abb62d68edf8bc2e",
   "outputs": [
    {
     "name": "stdout",
     "output_type": "stream",
     "text": [
      "Image shape: torch.Size([3, 224, 224]) -> [batch, height, width]\n",
      "Datatype: <built-in method type of Tensor object at 0x00000262D4188320>\n",
      "Label: [77 77 77 ... 62 62 62]\n",
      "Device tensor is stored on: cpu\n"
     ]
    }
   ],
   "execution_count": 608
  },
  {
   "metadata": {},
   "cell_type": "markdown",
   "source": [
    "## Model\n",
    "#### Hyperparameters"
   ],
   "id": "eed9848820c891b8"
  },
  {
   "metadata": {},
   "cell_type": "markdown",
   "source": [
    "### Residual Block\n",
    "As I wish to implement a model based upon a Residual Network, I must first build a *Residual Block*. A basic block consists of two sequential 3x3 convolutional layers and a residual connection, where the input and output dimensions of the layers are the same."
   ],
   "id": "d9850b5b75599616"
  },
  {
   "metadata": {
    "ExecuteTime": {
     "end_time": "2024-04-29T17:12:48.841026Z",
     "start_time": "2024-04-29T17:12:48.835540Z"
    }
   },
   "cell_type": "code",
   "source": [
    "class ResidualBlock(nn.Module):\n",
    "    \n",
    "    def __init__(self, in_channels, out_channels, stride=1, downsample=None):\n",
    "        super(ResidualBlock, self).__init__()\n",
    "        \n",
    "        self.expansion = 4\n",
    "        \n",
    "        self.layer1 = nn.Sequential(\n",
    "            # Typically use odd stride values, giving the benefit of preserving the dimensionality\n",
    "            nn.Conv2d(in_channels, out_channels, kernel_size=3, stride=stride, padding=1),\n",
    "            nn.BatchNorm2d(out_channels),\n",
    "            nn.ReLU())\n",
    "        \n",
    "        # Note that for a residual block, stride=1 in order to maintain spatial dimensionality\n",
    "        self.layer2 = nn.Sequential(\n",
    "            nn.Conv2d(in_channels, out_channels, kernel_size=3, stride=1, padding=1),\n",
    "            nn.BatchNorm2d(out_channels * self.expansion),\n",
    "            nn.ReLU())\n",
    "        \n",
    "        self.downsample = downsample\n",
    "        self.relu = nn.ReLU()\n",
    "        self.out_channels = out_channels\n",
    "        \n",
    "    def forward(self, x):\n",
    "        residual = x\n",
    "        out = self.layer1(x)\n",
    "        out = self.layer2(x)\n",
    "        \n",
    "        if self.downsample is not None:\n",
    "            residual = self.downsample(x)\n",
    "        \n",
    "        out += residual\n",
    "        out = self.relu(out)\n",
    "        return out"
   ],
   "id": "836368053b1a6419",
   "outputs": [],
   "execution_count": 618
  },
  {
   "metadata": {},
   "cell_type": "markdown",
   "source": "### ResNet Architecture",
   "id": "c2f17a725ce990a7"
  },
  {
   "metadata": {
    "ExecuteTime": {
     "end_time": "2024-04-29T18:03:57.769725Z",
     "start_time": "2024-04-29T18:03:57.758905Z"
    }
   },
   "cell_type": "code",
   "source": [
    "class MyNN(nn.Module):\n",
    "    \n",
    "    def __init__(self, ResidualBlock, layers, image_channels, num_classes):\n",
    "        \"\"\"\n",
    "\n",
    "        :param ResidualBlock: A residual block class\n",
    "        :param layers: A list stating how many times we wish to use the residual block\n",
    "        :param image_channels: \n",
    "        :param num_classes: \n",
    "        \"\"\"\n",
    "        super(MyNN, self).__init__()\n",
    "        \n",
    "        self.in_channels = 64\n",
    "        \n",
    "        self.layer0 = nn.Sequential(\n",
    "            nn.Conv2d(image_channels, 64, kernel_size=7, stride=2, padding=3),\n",
    "            nn.BatchNorm2d(64),\n",
    "            nn.ReLU(),\n",
    "            nn.MaxPool2d(kernel_size=3, stride=1, padding=2)\n",
    "        )\n",
    "        \n",
    "        # Architecture's layers\n",
    "        self.layer1 = self.make_layer(ResidualBlock, layers[0], out_channels=64, stride=1)\n",
    "        self.layer2 = self.make_layer(ResidualBlock, layers[1], out_channels=128, stride=2)\n",
    "        self.layer3 = self.make_layer(ResidualBlock, layers[2], out_channels=128, stride=2)\n",
    "        self.layer4 = self.make_layer(ResidualBlock, layers[3], out_channels=512, stride=2)\n",
    "        \n",
    "        self.avgPool = nn.AdaptiveAvgPool2d((1, 1))\n",
    "        \n",
    "        self.fc = nn.Linear(512*4, num_classes)\n",
    "    \n",
    "    def forward(self, x):\n",
    "        x = self.layer0(x)\n",
    "        x = self.layer1(x)\n",
    "        x = self.layer2(x)\n",
    "        x = self.layer3(x)\n",
    "        x = self.layer4(x)\n",
    "        \n",
    "        # Make it the correct dimension\n",
    "        x = nn.AvgPool2d(x)\n",
    "        x = x.reshape(x.shape[0], -1)\n",
    "        x = self.fc(x)\n",
    "        return x\n",
    "            \n",
    "    def make_layer(self, ResidualBlock, n_res_blocks, out_channels, stride):\n",
    "        downsample = None\n",
    "        layers = []\n",
    "        \n",
    "        if stride != 1 or self.in_channels != out_channels * 4:\n",
    "            downsample = nn.Sequential(\n",
    "                nn.Conv2d(self.in_channels, out_channels=out_channels*4, kernel_size=1, stride=stride),\n",
    "                nn.BatchNorm2d(out_channels * 4)\n",
    "            )\n",
    "        \n",
    "        layers.append(ResidualBlock(self.in_channels, out_channels, downsample, stride))\n",
    "        self.in_channels = out_channels * 4     # 256 in -> 64 out, then map to 64*4 (256) again\n",
    "        \n",
    "        for i in range(n_res_blocks - 1):\n",
    "            layers.append(ResidualBlock(self.in_channels, out_channels))\n",
    "        \n",
    "        # Return a sequence of modules that is the same as the layers list (including order)  \n",
    "        return nn.Sequential(*layers)"
   ],
   "id": "d48ad17670c76f80",
   "outputs": [],
   "execution_count": 621
  },
  {
   "metadata": {
    "ExecuteTime": {
     "end_time": "2024-04-29T18:04:01.465629Z",
     "start_time": "2024-04-29T18:04:01.462181Z"
    }
   },
   "cell_type": "code",
   "source": [
    "def NN50(img_channels=3, num_classes=1000):\n",
    "    return MyNN(ResidualBlock, [3, 4, 6, 3], img_channels, num_classes)"
   ],
   "id": "b340b1da13d755bf",
   "outputs": [],
   "execution_count": 622
  },
  {
   "metadata": {
    "ExecuteTime": {
     "end_time": "2024-04-29T18:04:09.122370Z",
     "start_time": "2024-04-29T18:04:09.012092Z"
    }
   },
   "cell_type": "code",
   "source": [
    "net = NN50()\n",
    "print(net)"
   ],
   "id": "9858f155b380e71b",
   "outputs": [
    {
     "name": "stdout",
     "output_type": "stream",
     "text": [
      "MyNN(\n",
      "  (layer0): Sequential(\n",
      "    (0): Conv2d(3, 64, kernel_size=(7, 7), stride=(2, 2), padding=(3, 3))\n",
      "    (1): BatchNorm2d(64, eps=1e-05, momentum=0.1, affine=True, track_running_stats=True)\n",
      "    (2): ReLU()\n",
      "    (3): MaxPool2d(kernel_size=3, stride=1, padding=2, dilation=1, ceil_mode=False)\n",
      "  )\n",
      "  (layer1): Sequential(\n",
      "    (0): ResidualBlock(\n",
      "      (layer1): Sequential(\n",
      "        (0): Conv2d(64, 64, kernel_size=(3, 3), stride=(Conv2d(64, 256, kernel_size=(1, 1), stride=(1, 1)), BatchNorm2d(256, eps=1e-05, momentum=0.1, affine=True, track_running_stats=True)), padding=(1, 1))\n",
      "        (1): BatchNorm2d(64, eps=1e-05, momentum=0.1, affine=True, track_running_stats=True)\n",
      "        (2): ReLU()\n",
      "      )\n",
      "      (layer2): Sequential(\n",
      "        (0): Conv2d(64, 64, kernel_size=(3, 3), stride=(1, 1), padding=(1, 1))\n",
      "        (1): BatchNorm2d(64, eps=1e-05, momentum=0.1, affine=True, track_running_stats=True)\n",
      "        (2): ReLU()\n",
      "      )\n",
      "      (relu): ReLU()\n",
      "    )\n",
      "    (1): ResidualBlock(\n",
      "      (layer1): Sequential(\n",
      "        (0): Conv2d(256, 64, kernel_size=(3, 3), stride=(1, 1), padding=(1, 1))\n",
      "        (1): BatchNorm2d(64, eps=1e-05, momentum=0.1, affine=True, track_running_stats=True)\n",
      "        (2): ReLU()\n",
      "      )\n",
      "      (layer2): Sequential(\n",
      "        (0): Conv2d(256, 64, kernel_size=(3, 3), stride=(1, 1), padding=(1, 1))\n",
      "        (1): BatchNorm2d(64, eps=1e-05, momentum=0.1, affine=True, track_running_stats=True)\n",
      "        (2): ReLU()\n",
      "      )\n",
      "      (relu): ReLU()\n",
      "    )\n",
      "    (2): ResidualBlock(\n",
      "      (layer1): Sequential(\n",
      "        (0): Conv2d(256, 64, kernel_size=(3, 3), stride=(1, 1), padding=(1, 1))\n",
      "        (1): BatchNorm2d(64, eps=1e-05, momentum=0.1, affine=True, track_running_stats=True)\n",
      "        (2): ReLU()\n",
      "      )\n",
      "      (layer2): Sequential(\n",
      "        (0): Conv2d(256, 64, kernel_size=(3, 3), stride=(1, 1), padding=(1, 1))\n",
      "        (1): BatchNorm2d(64, eps=1e-05, momentum=0.1, affine=True, track_running_stats=True)\n",
      "        (2): ReLU()\n",
      "      )\n",
      "      (relu): ReLU()\n",
      "    )\n",
      "  )\n",
      "  (layer2): Sequential(\n",
      "    (0): ResidualBlock(\n",
      "      (layer1): Sequential(\n",
      "        (0): Conv2d(256, 128, kernel_size=(3, 3), stride=(Conv2d(256, 512, kernel_size=(1, 1), stride=(2, 2)), BatchNorm2d(512, eps=1e-05, momentum=0.1, affine=True, track_running_stats=True)), padding=(1, 1))\n",
      "        (1): BatchNorm2d(128, eps=1e-05, momentum=0.1, affine=True, track_running_stats=True)\n",
      "        (2): ReLU()\n",
      "      )\n",
      "      (layer2): Sequential(\n",
      "        (0): Conv2d(256, 128, kernel_size=(3, 3), stride=(1, 1), padding=(1, 1))\n",
      "        (1): BatchNorm2d(128, eps=1e-05, momentum=0.1, affine=True, track_running_stats=True)\n",
      "        (2): ReLU()\n",
      "      )\n",
      "      (relu): ReLU()\n",
      "    )\n",
      "    (1): ResidualBlock(\n",
      "      (layer1): Sequential(\n",
      "        (0): Conv2d(512, 128, kernel_size=(3, 3), stride=(1, 1), padding=(1, 1))\n",
      "        (1): BatchNorm2d(128, eps=1e-05, momentum=0.1, affine=True, track_running_stats=True)\n",
      "        (2): ReLU()\n",
      "      )\n",
      "      (layer2): Sequential(\n",
      "        (0): Conv2d(512, 128, kernel_size=(3, 3), stride=(1, 1), padding=(1, 1))\n",
      "        (1): BatchNorm2d(128, eps=1e-05, momentum=0.1, affine=True, track_running_stats=True)\n",
      "        (2): ReLU()\n",
      "      )\n",
      "      (relu): ReLU()\n",
      "    )\n",
      "    (2): ResidualBlock(\n",
      "      (layer1): Sequential(\n",
      "        (0): Conv2d(512, 128, kernel_size=(3, 3), stride=(1, 1), padding=(1, 1))\n",
      "        (1): BatchNorm2d(128, eps=1e-05, momentum=0.1, affine=True, track_running_stats=True)\n",
      "        (2): ReLU()\n",
      "      )\n",
      "      (layer2): Sequential(\n",
      "        (0): Conv2d(512, 128, kernel_size=(3, 3), stride=(1, 1), padding=(1, 1))\n",
      "        (1): BatchNorm2d(128, eps=1e-05, momentum=0.1, affine=True, track_running_stats=True)\n",
      "        (2): ReLU()\n",
      "      )\n",
      "      (relu): ReLU()\n",
      "    )\n",
      "    (3): ResidualBlock(\n",
      "      (layer1): Sequential(\n",
      "        (0): Conv2d(512, 128, kernel_size=(3, 3), stride=(1, 1), padding=(1, 1))\n",
      "        (1): BatchNorm2d(128, eps=1e-05, momentum=0.1, affine=True, track_running_stats=True)\n",
      "        (2): ReLU()\n",
      "      )\n",
      "      (layer2): Sequential(\n",
      "        (0): Conv2d(512, 128, kernel_size=(3, 3), stride=(1, 1), padding=(1, 1))\n",
      "        (1): BatchNorm2d(128, eps=1e-05, momentum=0.1, affine=True, track_running_stats=True)\n",
      "        (2): ReLU()\n",
      "      )\n",
      "      (relu): ReLU()\n",
      "    )\n",
      "  )\n",
      "  (layer3): Sequential(\n",
      "    (0): ResidualBlock(\n",
      "      (layer1): Sequential(\n",
      "        (0): Conv2d(512, 128, kernel_size=(3, 3), stride=(Conv2d(512, 512, kernel_size=(1, 1), stride=(2, 2)), BatchNorm2d(512, eps=1e-05, momentum=0.1, affine=True, track_running_stats=True)), padding=(1, 1))\n",
      "        (1): BatchNorm2d(128, eps=1e-05, momentum=0.1, affine=True, track_running_stats=True)\n",
      "        (2): ReLU()\n",
      "      )\n",
      "      (layer2): Sequential(\n",
      "        (0): Conv2d(512, 128, kernel_size=(3, 3), stride=(1, 1), padding=(1, 1))\n",
      "        (1): BatchNorm2d(128, eps=1e-05, momentum=0.1, affine=True, track_running_stats=True)\n",
      "        (2): ReLU()\n",
      "      )\n",
      "      (relu): ReLU()\n",
      "    )\n",
      "    (1): ResidualBlock(\n",
      "      (layer1): Sequential(\n",
      "        (0): Conv2d(512, 128, kernel_size=(3, 3), stride=(1, 1), padding=(1, 1))\n",
      "        (1): BatchNorm2d(128, eps=1e-05, momentum=0.1, affine=True, track_running_stats=True)\n",
      "        (2): ReLU()\n",
      "      )\n",
      "      (layer2): Sequential(\n",
      "        (0): Conv2d(512, 128, kernel_size=(3, 3), stride=(1, 1), padding=(1, 1))\n",
      "        (1): BatchNorm2d(128, eps=1e-05, momentum=0.1, affine=True, track_running_stats=True)\n",
      "        (2): ReLU()\n",
      "      )\n",
      "      (relu): ReLU()\n",
      "    )\n",
      "    (2): ResidualBlock(\n",
      "      (layer1): Sequential(\n",
      "        (0): Conv2d(512, 128, kernel_size=(3, 3), stride=(1, 1), padding=(1, 1))\n",
      "        (1): BatchNorm2d(128, eps=1e-05, momentum=0.1, affine=True, track_running_stats=True)\n",
      "        (2): ReLU()\n",
      "      )\n",
      "      (layer2): Sequential(\n",
      "        (0): Conv2d(512, 128, kernel_size=(3, 3), stride=(1, 1), padding=(1, 1))\n",
      "        (1): BatchNorm2d(128, eps=1e-05, momentum=0.1, affine=True, track_running_stats=True)\n",
      "        (2): ReLU()\n",
      "      )\n",
      "      (relu): ReLU()\n",
      "    )\n",
      "    (3): ResidualBlock(\n",
      "      (layer1): Sequential(\n",
      "        (0): Conv2d(512, 128, kernel_size=(3, 3), stride=(1, 1), padding=(1, 1))\n",
      "        (1): BatchNorm2d(128, eps=1e-05, momentum=0.1, affine=True, track_running_stats=True)\n",
      "        (2): ReLU()\n",
      "      )\n",
      "      (layer2): Sequential(\n",
      "        (0): Conv2d(512, 128, kernel_size=(3, 3), stride=(1, 1), padding=(1, 1))\n",
      "        (1): BatchNorm2d(128, eps=1e-05, momentum=0.1, affine=True, track_running_stats=True)\n",
      "        (2): ReLU()\n",
      "      )\n",
      "      (relu): ReLU()\n",
      "    )\n",
      "    (4): ResidualBlock(\n",
      "      (layer1): Sequential(\n",
      "        (0): Conv2d(512, 128, kernel_size=(3, 3), stride=(1, 1), padding=(1, 1))\n",
      "        (1): BatchNorm2d(128, eps=1e-05, momentum=0.1, affine=True, track_running_stats=True)\n",
      "        (2): ReLU()\n",
      "      )\n",
      "      (layer2): Sequential(\n",
      "        (0): Conv2d(512, 128, kernel_size=(3, 3), stride=(1, 1), padding=(1, 1))\n",
      "        (1): BatchNorm2d(128, eps=1e-05, momentum=0.1, affine=True, track_running_stats=True)\n",
      "        (2): ReLU()\n",
      "      )\n",
      "      (relu): ReLU()\n",
      "    )\n",
      "    (5): ResidualBlock(\n",
      "      (layer1): Sequential(\n",
      "        (0): Conv2d(512, 128, kernel_size=(3, 3), stride=(1, 1), padding=(1, 1))\n",
      "        (1): BatchNorm2d(128, eps=1e-05, momentum=0.1, affine=True, track_running_stats=True)\n",
      "        (2): ReLU()\n",
      "      )\n",
      "      (layer2): Sequential(\n",
      "        (0): Conv2d(512, 128, kernel_size=(3, 3), stride=(1, 1), padding=(1, 1))\n",
      "        (1): BatchNorm2d(128, eps=1e-05, momentum=0.1, affine=True, track_running_stats=True)\n",
      "        (2): ReLU()\n",
      "      )\n",
      "      (relu): ReLU()\n",
      "    )\n",
      "  )\n",
      "  (layer4): Sequential(\n",
      "    (0): ResidualBlock(\n",
      "      (layer1): Sequential(\n",
      "        (0): Conv2d(512, 512, kernel_size=(3, 3), stride=(Conv2d(512, 2048, kernel_size=(1, 1), stride=(2, 2)), BatchNorm2d(2048, eps=1e-05, momentum=0.1, affine=True, track_running_stats=True)), padding=(1, 1))\n",
      "        (1): BatchNorm2d(512, eps=1e-05, momentum=0.1, affine=True, track_running_stats=True)\n",
      "        (2): ReLU()\n",
      "      )\n",
      "      (layer2): Sequential(\n",
      "        (0): Conv2d(512, 512, kernel_size=(3, 3), stride=(1, 1), padding=(1, 1))\n",
      "        (1): BatchNorm2d(512, eps=1e-05, momentum=0.1, affine=True, track_running_stats=True)\n",
      "        (2): ReLU()\n",
      "      )\n",
      "      (relu): ReLU()\n",
      "    )\n",
      "    (1): ResidualBlock(\n",
      "      (layer1): Sequential(\n",
      "        (0): Conv2d(2048, 512, kernel_size=(3, 3), stride=(1, 1), padding=(1, 1))\n",
      "        (1): BatchNorm2d(512, eps=1e-05, momentum=0.1, affine=True, track_running_stats=True)\n",
      "        (2): ReLU()\n",
      "      )\n",
      "      (layer2): Sequential(\n",
      "        (0): Conv2d(2048, 512, kernel_size=(3, 3), stride=(1, 1), padding=(1, 1))\n",
      "        (1): BatchNorm2d(512, eps=1e-05, momentum=0.1, affine=True, track_running_stats=True)\n",
      "        (2): ReLU()\n",
      "      )\n",
      "      (relu): ReLU()\n",
      "    )\n",
      "    (2): ResidualBlock(\n",
      "      (layer1): Sequential(\n",
      "        (0): Conv2d(2048, 512, kernel_size=(3, 3), stride=(1, 1), padding=(1, 1))\n",
      "        (1): BatchNorm2d(512, eps=1e-05, momentum=0.1, affine=True, track_running_stats=True)\n",
      "        (2): ReLU()\n",
      "      )\n",
      "      (layer2): Sequential(\n",
      "        (0): Conv2d(2048, 512, kernel_size=(3, 3), stride=(1, 1), padding=(1, 1))\n",
      "        (1): BatchNorm2d(512, eps=1e-05, momentum=0.1, affine=True, track_running_stats=True)\n",
      "        (2): ReLU()\n",
      "      )\n",
      "      (relu): ReLU()\n",
      "    )\n",
      "  )\n",
      "  (avgPool): AdaptiveAvgPool2d(output_size=(1, 1))\n",
      "  (fc): Linear(in_features=2048, out_features=1000, bias=True)\n",
      ")\n"
     ]
    }
   ],
   "execution_count": 623
  },
  {
   "metadata": {
    "ExecuteTime": {
     "end_time": "2024-04-29T18:11:03.370835Z",
     "start_time": "2024-04-29T18:11:03.365291Z"
    }
   },
   "cell_type": "code",
   "source": [
    "# Get the learnable parameters\n",
    "params = list(net.parameters())\n",
    "print(len(params))\n",
    "print(params[0].size())"
   ],
   "id": "22bb995aaf2b22f8",
   "outputs": [
    {
     "name": "stdout",
     "output_type": "stream",
     "text": [
      "134\n",
      "torch.Size([64, 3, 7, 7])\n"
     ]
    }
   ],
   "execution_count": 624
  },
  {
   "metadata": {},
   "cell_type": "markdown",
   "source": "## Train Network",
   "id": "6f3b52e957e6c22"
  },
  {
   "metadata": {
    "ExecuteTime": {
     "end_time": "2024-04-29T18:25:37.110635Z",
     "start_time": "2024-04-29T18:25:37.106671Z"
    }
   },
   "cell_type": "code",
   "source": [
    "batch_size = 16\n",
    "train_loader = DataLoader(train_dataset, batch_size=batch_size, shuffle=True)"
   ],
   "id": "a6f5c1a8ae9dfe12",
   "outputs": [],
   "execution_count": 625
  },
  {
   "metadata": {
    "ExecuteTime": {
     "end_time": "2024-04-29T18:27:07.486663Z",
     "start_time": "2024-04-29T18:27:07.469173Z"
    }
   },
   "cell_type": "code",
   "source": [
    "optimiser = torch.optim.Adam(net.parameters(), lr=1e-3)\n",
    "\n",
    "first\n",
    "# try to predict the first training sample"
   ],
   "id": "f845be5bbb8771be",
   "outputs": [
    {
     "ename": "AttributeError",
     "evalue": "'int' object has no attribute 'split'",
     "output_type": "error",
     "traceback": [
      "\u001B[1;31m---------------------------------------------------------------------------\u001B[0m",
      "\u001B[1;31mAttributeError\u001B[0m                            Traceback (most recent call last)",
      "Cell \u001B[1;32mIn[628], line 1\u001B[0m\n\u001B[1;32m----> 1\u001B[0m \u001B[38;5;28mprint\u001B[39m(net\u001B[38;5;241m.\u001B[39mlayer2\u001B[38;5;241m.\u001B[39mget_submodule(\u001B[38;5;241m0\u001B[39m)\u001B[38;5;241m.\u001B[39mweight[\u001B[38;5;241m0\u001B[39m])\n\u001B[0;32m      2\u001B[0m \u001B[38;5;28mprint\u001B[39m(net\u001B[38;5;241m.\u001B[39mlayer2\u001B[38;5;241m.\u001B[39mget_submodule(\u001B[38;5;241m0\u001B[39m)\u001B[38;5;241m.\u001B[39mweight\u001B[38;5;241m.\u001B[39mgrad)\n",
      "File \u001B[1;32m~\\anaconda3\\envs\\coursework\\Lib\\site-packages\\torch\\nn\\modules\\module.py:652\u001B[0m, in \u001B[0;36mModule.get_submodule\u001B[1;34m(self, target)\u001B[0m\n\u001B[0;32m    649\u001B[0m \u001B[38;5;28;01mif\u001B[39;00m target \u001B[38;5;241m==\u001B[39m \u001B[38;5;124m\"\u001B[39m\u001B[38;5;124m\"\u001B[39m:\n\u001B[0;32m    650\u001B[0m     \u001B[38;5;28;01mreturn\u001B[39;00m \u001B[38;5;28mself\u001B[39m\n\u001B[1;32m--> 652\u001B[0m atoms: List[\u001B[38;5;28mstr\u001B[39m] \u001B[38;5;241m=\u001B[39m target\u001B[38;5;241m.\u001B[39msplit(\u001B[38;5;124m\"\u001B[39m\u001B[38;5;124m.\u001B[39m\u001B[38;5;124m\"\u001B[39m)\n\u001B[0;32m    653\u001B[0m mod: torch\u001B[38;5;241m.\u001B[39mnn\u001B[38;5;241m.\u001B[39mModule \u001B[38;5;241m=\u001B[39m \u001B[38;5;28mself\u001B[39m\n\u001B[0;32m    655\u001B[0m \u001B[38;5;28;01mfor\u001B[39;00m item \u001B[38;5;129;01min\u001B[39;00m atoms:\n",
      "\u001B[1;31mAttributeError\u001B[0m: 'int' object has no attribute 'split'"
     ]
    }
   ],
   "execution_count": 628
  }
 ],
 "metadata": {
  "kernelspec": {
   "display_name": "Python 3",
   "language": "python",
   "name": "python3"
  },
  "language_info": {
   "codemirror_mode": {
    "name": "ipython",
    "version": 2
   },
   "file_extension": ".py",
   "mimetype": "text/x-python",
   "name": "python",
   "nbconvert_exporter": "python",
   "pygments_lexer": "ipython2",
   "version": "2.7.6"
  }
 },
 "nbformat": 4,
 "nbformat_minor": 5
}
