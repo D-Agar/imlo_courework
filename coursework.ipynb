{
 "cells": [
  {
   "metadata": {},
   "cell_type": "markdown",
   "source": [
    "# Intelligent Systems - Individual Project Assessment\n",
    "I aim to split the code into 3 sections:\n",
    "1. Generating and analysing the datset\n",
    "2. Developing my classification model\n",
    "3. Training my model"
   ],
   "id": "3c02b4c20834a4a8"
  },
  {
   "cell_type": "code",
   "id": "initial_id",
   "metadata": {
    "collapsed": true,
    "ExecuteTime": {
     "end_time": "2024-05-08T07:51:42.462082Z",
     "start_time": "2024-05-08T07:51:42.447201Z"
    }
   },
   "source": [
    "import math\n",
    "import time\n",
    "\n",
    "import matplotlib.pyplot as plt\n",
    "import torch\n",
    "from torch import nn, optim\n",
    "from torch.utils.data import DataLoader\n",
    "from torchvision import datasets, transforms\n",
    "import numpy as np\n",
    "from torchvision.transforms import Lambda\n",
    "from torch.nn import functional as F\n",
    "from scipy import io as sio"
   ],
   "outputs": [],
   "execution_count": 95
  },
  {
   "metadata": {
    "ExecuteTime": {
     "end_time": "2024-05-08T07:51:42.546066Z",
     "start_time": "2024-05-08T07:51:42.541731Z"
    }
   },
   "cell_type": "code",
   "source": [
    "# set the selected device for the tensors\n",
    "device = torch.device('cuda' if torch.cuda.is_available() else 'cpu')\n",
    "print(f\"Using device: {device}\")\n",
    "print(torch.cuda.get_device_name(device))\n",
    "torch.set_default_device(device)"
   ],
   "id": "848484533890309c",
   "outputs": [
    {
     "name": "stdout",
     "output_type": "stream",
     "text": [
      "Using device: cuda\n",
      "NVIDIA GeForce RTX 3050 Laptop GPU\n"
     ]
    }
   ],
   "execution_count": 96
  },
  {
   "metadata": {},
   "cell_type": "markdown",
   "source": "## Dataset",
   "id": "f7e918a0a496f59f"
  },
  {
   "metadata": {},
   "cell_type": "markdown",
   "source": [
    "### Data Augmentation\n",
    "After inspection of the dataset, we have PIL images. Therefore, we will convert these to Tensors.\n",
    "\n",
    "The values used for the normalisation of data were calculated from the ImageNet training datase"
   ],
   "id": "47ed70104b71258f"
  },
  {
   "metadata": {
    "ExecuteTime": {
     "end_time": "2024-05-08T07:51:42.555350Z",
     "start_time": "2024-05-08T07:51:42.547072Z"
    }
   },
   "cell_type": "code",
   "source": [
    "# We perform random transformations to better generalise the training dataset\n",
    "train_transform = transforms.Compose([\n",
    "    # transforms.Resize(256),\n",
    "    # transforms.RandomCrop(224),\n",
    "    transforms.RandomResizedCrop(size=(224, 224), scale=(0.8, 1.0)),\n",
    "    transforms.RandomHorizontalFlip(),\n",
    "    transforms.RandomVerticalFlip(),\n",
    "    # I have chosen not to use RandomResizeCrop as it can remove large parts of the flowers\n",
    "    transforms.ToTensor(),\n",
    "    # These are the values I have calculated\n",
    "    transforms.Normalize(mean=[0.433, 0.382, 0.296], std=[0.259, 0.209, 0.221])\n",
    "])\n",
    "\n",
    "valid_transform = transforms.Compose([\n",
    "    transforms.Resize(256),\n",
    "    transforms.CenterCrop(224),\n",
    "    transforms.ToTensor(),\n",
    "    transforms.Normalize(mean=[0.433, 0.382, 0.296], std=[0.259, 0.209, 0.221])\n",
    "])\n",
    "\n",
    "test_transform = transforms.Compose([\n",
    "    transforms.Resize((224, 224)),\n",
    "    transforms.ToTensor(),\n",
    "    transforms.Normalize(mean=[0.433, 0.382, 0.296],std=[0.259, 0.209, 0.221])\n",
    "])"
   ],
   "id": "c48f59331aa7647",
   "outputs": [],
   "execution_count": 97
  },
  {
   "metadata": {},
   "cell_type": "markdown",
   "source": "### Downloading and splitting the dataset",
   "id": "610a373e39b3741d"
  },
  {
   "metadata": {
    "ExecuteTime": {
     "end_time": "2024-05-08T07:51:42.589930Z",
     "start_time": "2024-05-08T07:51:42.555350Z"
    }
   },
   "cell_type": "code",
   "source": [
    "# I will download the data from PyTorch's website and use the appropriate data loader\n",
    "train_dataset = datasets.Flowers102(\n",
    "    root='flowers102',\n",
    "    split=\"train\",\n",
    "    download=True,\n",
    "    transform=train_transform\n",
    "    # target_transform=Lambda(lambda y: F.one_hot(torch.FloatTensor(y), num_classes=102))\n",
    ")\n",
    "\n",
    "valid_dataset = datasets.Flowers102(\n",
    "    root='flowers102',\n",
    "    split=\"val\",\n",
    "    download=True,\n",
    "    transform=valid_transform,\n",
    "    # target_transform=Lambda(lambda y: torch.zeros(102, dtype=torch.float).scatter_(0, torch.tensor(y), value=1))\n",
    ")\n",
    "\n",
    "test_dataset = datasets.Flowers102(\n",
    "    root='flowers102',\n",
    "    split=\"test\",\n",
    "    download=True,\n",
    "    transform=test_transform\n",
    ")\n",
    "\n",
    "# Get the targets and ids\n",
    "image_labels = sio.loadmat(\"flowers102/flowers-102/imagelabels\")\n",
    "setids = sio.loadmat(\"flowers102/flowers-102/setid\")\n",
    "print(np.unique(image_labels['labels']).size)\n",
    "train_ids = setids['trnid']"
   ],
   "id": "bd6d67145590aa00",
   "outputs": [
    {
     "name": "stdout",
     "output_type": "stream",
     "text": [
      "102\n"
     ]
    }
   ],
   "execution_count": 98
  },
  {
   "metadata": {
    "ExecuteTime": {
     "end_time": "2024-05-08T07:51:42.605046Z",
     "start_time": "2024-05-08T07:51:42.589930Z"
    }
   },
   "cell_type": "code",
   "source": [
    "image, label = train_dataset[9]\n",
    "label"
   ],
   "id": "fe253bf347219495",
   "outputs": [
    {
     "data": {
      "text/plain": [
       "0"
      ]
     },
     "execution_count": 99,
     "metadata": {},
     "output_type": "execute_result"
    }
   ],
   "execution_count": 99
  },
  {
   "metadata": {
    "ExecuteTime": {
     "end_time": "2024-05-08T07:51:42.731600Z",
     "start_time": "2024-05-08T07:51:42.605046Z"
    }
   },
   "cell_type": "code",
   "source": [
    "# look at the first training sample\n",
    "image, label = train_dataset[15]\n",
    "print(f\"Image shape: {image.shape} -> [batch, height, width]\")\n",
    "print(f\"Datatype: {image.dtype}\")\n",
    "print(f\"Label: {label}\")\n",
    "print(f\"Device tensor is stored on: {image.device}\")\n",
    "plt.imshow(image.permute(1, 2, 0))"
   ],
   "id": "abb62d68edf8bc2e",
   "outputs": [
    {
     "name": "stderr",
     "output_type": "stream",
     "text": [
      "Clipping input data to the valid range for imshow with RGB data ([0..1] for floats or [0..255] for integers).\n"
     ]
    },
    {
     "name": "stdout",
     "output_type": "stream",
     "text": [
      "Image shape: torch.Size([3, 224, 224]) -> [batch, height, width]\n",
      "Datatype: torch.float32\n",
      "Label: 1\n",
      "Device tensor is stored on: cpu\n"
     ]
    },
    {
     "data": {
      "text/plain": [
       "<matplotlib.image.AxesImage at 0x19791d1a450>"
      ]
     },
     "execution_count": 100,
     "metadata": {},
     "output_type": "execute_result"
    },
    {
     "data": {
      "text/plain": [
       "<Figure size 640x480 with 1 Axes>"
      ],
      "image/png": "[encoded data removed]"
     },
     "metadata": {},
     "output_type": "display_data"
    }
   ],
   "execution_count": 100
  },
  {
   "metadata": {},
   "cell_type": "markdown",
   "source": [
    "## Model\n",
    "I am first going to implement a very basic Convolutional Neural Network as these work well with images"
   ],
   "id": "eed9848820c891b8"
  },
  {
   "metadata": {
    "ExecuteTime": {
     "end_time": "2024-05-08T07:51:42.738732Z",
     "start_time": "2024-05-08T07:51:42.732321Z"
    }
   },
   "cell_type": "code",
   "source": [
    "class MyNN(nn.Module):\n",
    "    def __init__(self):\n",
    "        super().__init__()\n",
    "        \n",
    "        # Identify a lot of features\n",
    "        self.conv1 = nn.Conv2d(in_channels=3, out_channels=6, kernel_size=5, stride=1)\n",
    "        self.conv2 = nn.Conv2d(in_channels=6, out_channels=16, kernel_size=5, stride=1)\n",
    "        \n",
    "        self.relu = nn.ReLU()\n",
    "        self.pool = nn.MaxPool2d(kernel_size=2, stride=2)\n",
    "        self.flatten = nn.Flatten(1)\n",
    "\n",
    "        self.fc1 = nn.Linear(16 * 53 * 53, 600)\n",
    "        self.fc2 = nn.Linear(600, 300)\n",
    "        self.fc3 = nn.Linear(300, 102)\n",
    "        \n",
    "    def forward(self, x):\n",
    "        x = self.conv1(x)\n",
    "        x = self.relu(x)\n",
    "        x = self.pool(x)\n",
    "        x = self.conv2(x)\n",
    "        x = self.relu(x)\n",
    "        x = self.pool(x)\n",
    "        \n",
    "        # Batch is the 1st dimension, image dimensions are 2nd and 3rd\n",
    "        x = self.flatten(x)\n",
    "        x = self.fc1(x)\n",
    "        x = self.relu(x)\n",
    "        x = self.fc2(x)\n",
    "        x = self.relu(x)\n",
    "        x = self.fc3(x)\n",
    "        return x"
   ],
   "id": "362c426c49451236",
   "outputs": [],
   "execution_count": 101
  },
  {
   "metadata": {},
   "cell_type": "markdown",
   "source": "This architecture gave me an accuracy of 12% on the validation dataset. I will now attempt to use more channels and see if this improves the performance:",
   "id": "1fb06e11797e3d9b"
  },
  {
   "metadata": {
    "ExecuteTime": {
     "end_time": "2024-05-08T07:51:42.752330Z",
     "start_time": "2024-05-08T07:51:42.738732Z"
    }
   },
   "cell_type": "code",
   "source": [
    "# Making my Convolutional Neural Network\n",
    "class MyNN2(nn.Module):\n",
    "    \n",
    "    def __init__(self):\n",
    "        super().__init__()\n",
    "        \n",
    "        ### Feature Learning ###\n",
    "        # 3 Input channels\n",
    "        self.conv1 = nn.Conv2d(3, out_channels=16, kernel_size=3, stride=1, padding=1)\n",
    "        self.conv2 = nn.Conv2d(in_channels=16, out_channels=32, kernel_size=3, stride=1, padding=1)\n",
    "        self.conv3 = nn.Conv2d(in_channels=32, out_channels=64, kernel_size=3, stride=1, padding=1)\n",
    "        \n",
    "        self.maxpool = nn.MaxPool2d(kernel_size=2, stride=2)\n",
    "        self.relu = nn.ReLU()\n",
    "        \n",
    "        # ### Classification ###\n",
    "        self.flatten = nn.Flatten()\n",
    "        \n",
    "        # After the 3rd convolutional layer, the filters will have dimensions 26x26\n",
    "        # 128 x 28 x 28 features\n",
    "        self.fc1 = nn.Linear(64*28*28, 3000)\n",
    "        # Classify into one of the flower categories\n",
    "        self.fc2 = nn.Linear(3000, 102)\n",
    "                \n",
    "    def forward(self, x):\n",
    "        x = self.conv1(x)\n",
    "        x = self.relu(x)\n",
    "        x = self.maxpool(x)\n",
    "        \n",
    "        x = self.conv2(x)\n",
    "        x = self.relu(x)\n",
    "        x = self.maxpool(x)\n",
    "        \n",
    "        x = self.conv3(x)\n",
    "        x = self.relu(x)\n",
    "        x = self.maxpool(x)\n",
    "        \n",
    "        # Flatten the tensor for fully connected layers        \n",
    "        x = self.flatten(x)\n",
    "        x = nn.Dropout(0.2)(x)\n",
    "        \n",
    "        x = self.fc1(x)\n",
    "        x = self.relu(x)\n",
    "        x = self.fc2(x)\n",
    "\n",
    "        return x"
   ],
   "id": "593f2776f7ca3e0",
   "outputs": [],
   "execution_count": 102
  },
  {
   "metadata": {},
   "cell_type": "markdown",
   "source": "Second Architecture was also poor (~22% accuracy). I will attempt to perform batch normalisation as well as using more convolutions per layer:",
   "id": "48877fe676e679a7"
  },
  {
   "metadata": {
    "ExecuteTime": {
     "end_time": "2024-05-08T07:51:42.762336Z",
     "start_time": "2024-05-08T07:51:42.752330Z"
    }
   },
   "cell_type": "code",
   "source": [
    "class ConvBlock(nn.Module):\n",
    "    def __init__(self, in_channels, out_channels, kernel_size=3, stride=1, padding=1, downsample=None):\n",
    "        super(ConvBlock, self).__init__()\n",
    "        self.conv1 = nn.Conv2d(in_channels, out_channels, kernel_size, stride=stride, padding=padding)\n",
    "        self.conv2 = nn.Conv2d(out_channels, out_channels, kernel_size, stride=1, padding=1)\n",
    "        self.batch_norm1 = nn.BatchNorm2d(out_channels)\n",
    "        self.batch_norm2 = nn.BatchNorm2d(out_channels)\n",
    "        self.relu = nn.ReLU(inplace=True)\n",
    "        self.downsample = downsample\n",
    "        if in_channels != out_channels:\n",
    "            self.downsample = nn.Sequential(\n",
    "                nn.Conv2d(in_channels, out_channels, kernel_size=3, padding='same'),\n",
    "                nn.BatchNorm2d(out_channels)\n",
    "            )\n",
    "        \n",
    "    def forward(self, x):\n",
    "        # Hold the residual, which will be added to the output\n",
    "        residual = self.downsample(x) if self.downsample is not None else x\n",
    "        out = self.conv1(x)\n",
    "        out = self.batch_norm1(out)\n",
    "        out = self.conv2(out)\n",
    "        out = self.batch_norm2(out)\n",
    "        out += residual\n",
    "        out = self.relu(out)\n",
    "        return out\n",
    "\n",
    "class MyNN3(nn.Module):\n",
    "    def __init__(self):\n",
    "        super().__init__()\n",
    "        \n",
    "        self.conv1 = nn.Conv2d(3, 16, kernel_size=3, stride=1, padding=1)\n",
    "        self.batch_norm = nn.BatchNorm2d(16)\n",
    "        self.relu = nn.ReLU()\n",
    "        \n",
    "        self.cb1 = ConvBlock(16, 16, 3, 1, 1)\n",
    "        self.cb2 = ConvBlock(16, 32, 3, 1, 1)\n",
    "        self.cb3 = ConvBlock(32, 64, 3, 1, 1)\n",
    "        self.cb4 = ConvBlock(64, 128, 3, 1, 1)\n",
    "        self.maxpool = nn.MaxPool2d(kernel_size=2, stride=2)\n",
    "            \n",
    "        self.dropout = nn.Dropout(0.5)\n",
    "        self.flatten = nn.Flatten()\n",
    "        \n",
    "        self.fc1 = nn.Linear(128*14*14, 512)\n",
    "        self.fc2 = nn.Linear(512, 102)\n",
    "    \n",
    "    def forward(self, x):\n",
    "        x = self.conv1(x)\n",
    "        x = self.batch_norm(x)\n",
    "        x = self.relu(x)\n",
    "        \n",
    "        x = self.cb1(x)\n",
    "        x = self.maxpool(x)\n",
    "        x = self.cb2(x)\n",
    "        x = self.maxpool(x)\n",
    "        x = self.cb3(x)\n",
    "        x = self.maxpool(x)\n",
    "        x = self.cb4(x)\n",
    "        x = self.maxpool(x)\n",
    "        \n",
    "        x = self.flatten(x)\n",
    "        x = self.fc1(x)\n",
    "        x = self.relu(x)\n",
    "        x = self.dropout(x)\n",
    "        x = self.fc2(x)\n",
    "        return x"
   ],
   "id": "fd743d5d6ea749b6",
   "outputs": [],
   "execution_count": 103
  },
  {
   "metadata": {
    "ExecuteTime": {
     "end_time": "2024-05-08T07:51:42.773976Z",
     "start_time": "2024-05-08T07:51:42.763340Z"
    }
   },
   "cell_type": "code",
   "source": [
    "class ConvBlock(nn.Module):\n",
    "    def __init__(self, in_channels, out_channels, kernel_size=3, stride=1, padding=1, downsample=None):\n",
    "        super(ConvBlock, self).__init__()\n",
    "        self.conv1 = nn.Conv2d(in_channels, out_channels, kernel_size, stride=stride, padding=padding)\n",
    "        self.conv2 = nn.Conv2d(out_channels, out_channels, kernel_size, stride=1, padding=1)\n",
    "        self.batch_norm1 = nn.BatchNorm2d(out_channels)\n",
    "        self.batch_norm2 = nn.BatchNorm2d(out_channels)\n",
    "        self.relu = nn.ReLU(inplace=True)\n",
    "        self.downsample = downsample\n",
    "        if in_channels != out_channels:\n",
    "            self.downsample = nn.Sequential(\n",
    "                nn.Conv2d(in_channels, out_channels, kernel_size=3, padding='same'),\n",
    "                nn.BatchNorm2d(out_channels)\n",
    "            )\n",
    "\n",
    "    def forward(self, x):\n",
    "        # Hold the residual, which will be added to the output\n",
    "        residual = self.downsample(x) if self.downsample is not None else x\n",
    "        out = self.conv1(x)\n",
    "        out = self.batch_norm1(out)\n",
    "        out = self.conv2(out)\n",
    "        out = self.batch_norm2(out)\n",
    "        out += residual\n",
    "        out = self.relu(out)\n",
    "        return out\n",
    "\n",
    "\n",
    "class MyNN4(nn.Module):\n",
    "    def __init__(self):\n",
    "        super().__init__()\n",
    "\n",
    "        self.conv1 = nn.Conv2d(3, 16, kernel_size=3, stride=1, padding=1)\n",
    "        self.batch_norm = nn.BatchNorm2d(16)\n",
    "        self.relu = nn.ReLU()\n",
    "\n",
    "        self.cb1 = ConvBlock(16, 32, 3, 1, 1)\n",
    "        self.cb2 = ConvBlock(32, 64, 3, 1, 1)\n",
    "        self.cb3 = ConvBlock(64, 128, 3, 1, 1)\n",
    "        self.cb4 = ConvBlock(128, 256, 3, 1, 1)\n",
    "        self.maxpool = nn.MaxPool2d(kernel_size=2, stride=2)\n",
    "\n",
    "        self.dropout = nn.Dropout(0.5)\n",
    "        self.flatten = nn.Flatten()\n",
    "\n",
    "        self.fc1 = nn.Linear(256*14*14, 512)\n",
    "        self.fc2 = nn.Linear(512, 102)\n",
    "\n",
    "    def forward(self, x):\n",
    "        x = self.conv1(x)\n",
    "        x = self.batch_norm(x)\n",
    "        x = self.relu(x)\n",
    "\n",
    "        x = self.cb1(x)\n",
    "        x = self.maxpool(x)\n",
    "        x = self.cb2(x)\n",
    "        x = self.maxpool(x)\n",
    "        x = self.cb3(x)\n",
    "        x = self.maxpool(x)\n",
    "        x = self.cb4(x)\n",
    "        x = self.maxpool(x)\n",
    "\n",
    "        x = self.flatten(x)\n",
    "        x = self.fc1(x)\n",
    "        x = self.relu(x)\n",
    "        x = self.dropout(x)\n",
    "        x = self.fc2(x)\n",
    "        return x"
   ],
   "id": "d9686602eff36c75",
   "outputs": [],
   "execution_count": 104
  },
  {
   "metadata": {},
   "cell_type": "markdown",
   "source": "This aims to be slightly simpler by creating a bottleneck.",
   "id": "af2cc35daf3c21fc"
  },
  {
   "metadata": {
    "ExecuteTime": {
     "end_time": "2024-05-08T07:51:42.782269Z",
     "start_time": "2024-05-08T07:51:42.773976Z"
    }
   },
   "cell_type": "code",
   "source": [
    "class MyNN5(nn.Module):\n",
    "    def __init__(self):\n",
    "        super().__init__()\n",
    "        self.conv1 = nn.Conv2d(3, 16, kernel_size=3, stride=1, padding=1)\n",
    "        self.conv2 = nn.Conv2d(16, 32, kernel_size=3, stride=1, padding=1)\n",
    "        self.conv3 = nn.Conv2d(32, 64, kernel_size=3, stride=1, padding=1)\n",
    "        self.conv4 = nn.Conv2d(64, 128, kernel_size=3, stride=1, padding=1)\n",
    "        self.conv5 = nn.Conv2d(128, 64, kernel_size=3, stride=1, padding=1)\n",
    "        self.conv6 = nn.Conv2d(64, 32, kernel_size=3, stride=1, padding=1)\n",
    "        self.conv7 = nn.Conv2d(32, 16, kernel_size=3, stride=1, padding=1)\n",
    "        \n",
    "        self.relu = nn.ReLU()\n",
    "        self.flatten = nn.Flatten()\n",
    "        self.dropout = nn.Dropout(0.4)\n",
    "        \n",
    "        self.fc1 = nn.Linear(16*224*224, 512)\n",
    "        self.fc2 = nn.Linear(512, 102)\n",
    "        \n",
    "    def forward(self, x):\n",
    "        x = self.relu(self.conv1(x))\n",
    "        x = self.relu(self.conv2(x))\n",
    "        x = self.relu(self.conv3(x))\n",
    "        x = self.relu(self.conv4(x))\n",
    "        x = self.relu(self.conv5(x))\n",
    "        x = self.relu(self.conv6(x))\n",
    "        x = self.relu(self.conv7(x))\n",
    "        x = self.flatten(x)\n",
    "        x = self.relu(self.fc1(x))\n",
    "        x = self.dropout(x)\n",
    "        x = self.relu(self.fc2(x))\n",
    "        return x"
   ],
   "id": "f43ca4c500c7c9aa",
   "outputs": [],
   "execution_count": 105
  },
  {
   "metadata": {
    "ExecuteTime": {
     "end_time": "2024-05-08T07:51:42.791121Z",
     "start_time": "2024-05-08T07:51:42.782269Z"
    }
   },
   "cell_type": "code",
   "source": [
    "class MyNN6(nn.Module):\n",
    "    def __init__(self):\n",
    "        super().__init__()\n",
    "        # First, try to get the bigger picture (max pooling and larger filter)\n",
    "        # output of sequence is 56x56x64\n",
    "        self.layer1 = nn.Sequential(\n",
    "            nn.Conv2d(3, 64, kernel_size=5, stride=2, padding=2),\n",
    "            nn.LeakyReLU(),\n",
    "            nn.MaxPool2d(kernel_size=2, stride=2),\n",
    "            nn.BatchNorm2d(64)\n",
    "        )\n",
    "        \n",
    "        # Gradually build up features\n",
    "        # output is 28x28x128\n",
    "        self.layer2 = nn.Sequential(\n",
    "            nn.Conv2d(64, 128, kernel_size=3, stride=1, padding=1),\n",
    "            nn.LeakyReLU(),\n",
    "            nn.MaxPool2d(kernel_size=2, stride=2),\n",
    "            nn.BatchNorm2d(128)\n",
    "        )\n",
    "        # output is 14x14x256\n",
    "        self.layer3 = nn.Sequential(\n",
    "            nn.Conv2d(128, 256, kernel_size=3, stride=1, padding=1),\n",
    "            nn.LeakyReLU(),\n",
    "            nn.MaxPool2d(kernel_size=2, stride=2),\n",
    "            nn.BatchNorm2d(256)\n",
    "        )\n",
    "        \n",
    "        self.flatten = nn.Flatten()\n",
    "        \n",
    "        self.fc1 = nn.Sequential(\n",
    "            nn.Linear(256*14*14, 8192),\n",
    "            nn.ReLU(),\n",
    "            nn.Dropout(0.5),\n",
    "        )\n",
    "        self.fc2 = nn.Sequential(\n",
    "            nn.Linear(8192, 1024),\n",
    "            nn.ReLU(),\n",
    "            nn.Dropout(0.4),\n",
    "        )\n",
    "        self.fc3 = nn.Linear(1024, 102)\n",
    "        \n",
    "    def forward(self, x):\n",
    "        x = self.layer1(x)\n",
    "        x = self.layer2(x)\n",
    "        x = self.layer3(x)\n",
    "\n",
    "        x = self.flatten(x)\n",
    "        x = self.fc1(x)\n",
    "        x = self.fc2(x)\n",
    "        x = self.fc3(x)\n",
    "        return x"
   ],
   "id": "3ae935762a6bfbb7",
   "outputs": [],
   "execution_count": 106
  },
  {
   "metadata": {
    "ExecuteTime": {
     "end_time": "2024-05-08T07:51:42.800369Z",
     "start_time": "2024-05-08T07:51:42.791121Z"
    }
   },
   "cell_type": "code",
   "source": [
    "class MyNN7(nn.Module):\n",
    "    def __init__(self):\n",
    "        super().__init__()\n",
    "        # First, try to get the bigger picture (max pooling and larger filter)\n",
    "        # output of sequence is 56x56x64\n",
    "        self.layer1 = nn.Sequential(\n",
    "            nn.Conv2d(3, 256, kernel_size=5, stride=2, padding=2),\n",
    "            nn.LeakyReLU(),\n",
    "            nn.MaxPool2d(kernel_size=2, stride=2),\n",
    "            nn.BatchNorm2d(256)\n",
    "        )\n",
    "        \n",
    "        # Gradually build up features\n",
    "        # output is 28x28x128\n",
    "        self.layer2 = nn.Sequential(\n",
    "            nn.Conv2d(256, 128, kernel_size=3, stride=1, padding=1),\n",
    "            nn.LeakyReLU(),\n",
    "            nn.MaxPool2d(kernel_size=2, stride=2),\n",
    "            nn.BatchNorm2d(128)\n",
    "        )\n",
    "        # output is 14x14x256\n",
    "        self.layer3 = nn.Sequential(\n",
    "            nn.Conv2d(128, 64, kernel_size=3, stride=1, padding=1),\n",
    "            nn.LeakyReLU(),\n",
    "            nn.MaxPool2d(kernel_size=2, stride=2),\n",
    "            nn.BatchNorm2d(64)\n",
    "        )\n",
    "        # output is 7x7x32\n",
    "        self.layer4 = nn.Sequential(\n",
    "            nn.Conv2d(64, 32, kernel_size=3, stride=1, padding=1),\n",
    "            nn.LeakyReLU(),\n",
    "            nn.MaxPool2d(kernel_size=2, stride=2),\n",
    "            nn.BatchNorm2d(32)\n",
    "        )\n",
    "        \n",
    "        self.flatten = nn.Flatten()\n",
    "        \n",
    "        self.fc1 = nn.Sequential(\n",
    "            nn.Linear(32*7*7, 1024),\n",
    "            nn.ReLU(),\n",
    "            nn.Dropout(0.4),\n",
    "        )\n",
    "        self.fc2 = nn.Sequential(\n",
    "            nn.Linear(1024, 512),\n",
    "            nn.ReLU(),\n",
    "            nn.Dropout(0.4),\n",
    "        )\n",
    "        self.fc3 = nn.Linear(512, 102)\n",
    "        \n",
    "    def forward(self, x):\n",
    "        x = self.layer1(x)\n",
    "        x = self.layer2(x)\n",
    "        x = self.layer3(x)\n",
    "        x = self.layer4(x)\n",
    "\n",
    "        x = self.flatten(x)\n",
    "        x = self.fc1(x)\n",
    "        x = self.fc2(x)\n",
    "        x = self.fc3(x)\n",
    "        return x"
   ],
   "id": "2d2da7dff2b291f6",
   "outputs": [],
   "execution_count": 107
  },
  {
   "metadata": {
    "ExecuteTime": {
     "end_time": "2024-05-08T07:51:42.808964Z",
     "start_time": "2024-05-08T07:51:42.800369Z"
    }
   },
   "cell_type": "code",
   "source": [
    "class MyNN8(nn.Module):\n",
    "    def __init__(self):\n",
    "        super().__init__()\n",
    "        \n",
    "        self.layer1 = nn.Sequential(\n",
    "            nn.Conv2d(3, 32, kernel_size=3, stride=1, padding=1),\n",
    "            nn.LeakyReLU(),\n",
    "            nn.MaxPool2d(kernel_size=2, stride=2),\n",
    "            nn.BatchNorm2d(32)\n",
    "        )\n",
    "        self.layer2 = nn.Sequential(\n",
    "            nn.Conv2d(32, 32, kernel_size=3, stride=1, padding=1),\n",
    "            nn.LeakyReLU(),\n",
    "            nn.MaxPool2d(kernel_size=2, stride=2),\n",
    "            nn.BatchNorm2d(32)\n",
    "        )\n",
    "        self.layer3 = nn.Sequential(\n",
    "            nn.Conv2d(32, 64, kernel_size=3, stride=1, padding=1),\n",
    "            nn.LeakyReLU(),\n",
    "            nn.MaxPool2d(kernel_size=2, stride=2),\n",
    "            nn.BatchNorm2d(64)\n",
    "        )\n",
    "        self.layer4 = nn.Sequential(\n",
    "            nn.Conv2d(64, 64, kernel_size=3, stride=1, padding=1),\n",
    "            nn.LeakyReLU(),\n",
    "            nn.MaxPool2d(kernel_size=2, stride=2),\n",
    "            nn.BatchNorm2d(64)\n",
    "        )\n",
    "        \n",
    "        self.flatten = nn.Flatten()\n",
    "        self.dropout = nn.Dropout(0.5)\n",
    "        self.fc1 = nn.Sequential(\n",
    "            nn.Linear(64*14*14, 1024),\n",
    "            nn.LeakyReLU(),\n",
    "            nn.Dropout(0.4),\n",
    "        )\n",
    "        self.fc2 = nn.Linear(1024, 102)\n",
    "        \n",
    "    def forward(self, x):\n",
    "        x = self.layer1(x)\n",
    "        x = self.layer2(x)\n",
    "        x = self.layer3(x)\n",
    "        x = self.layer4(x)\n",
    "        x = self.flatten(x)\n",
    "        x = self.dropout(x)\n",
    "        x = self.fc1(x)\n",
    "        x = self.fc2(x)\n",
    "        return x"
   ],
   "id": "e3ae8fd0932d3e29",
   "outputs": [],
   "execution_count": 108
  },
  {
   "metadata": {
    "ExecuteTime": {
     "end_time": "2024-05-08T07:51:42.817018Z",
     "start_time": "2024-05-08T07:51:42.810475Z"
    }
   },
   "cell_type": "code",
   "source": [
    "batch_size = 16\n",
    "train_loader = DataLoader(train_dataset, batch_size, shuffle=True, num_workers=4, generator=torch.Generator(device=device), pin_memory=True)"
   ],
   "id": "59105bc4592c0d97",
   "outputs": [],
   "execution_count": 109
  },
  {
   "metadata": {
    "ExecuteTime": {
     "end_time": "2024-05-08T07:51:42.828581Z",
     "start_time": "2024-05-08T07:51:42.817018Z"
    }
   },
   "cell_type": "code",
   "source": "model = MyNN8().to(device)",
   "id": "a0788ea08b2648e3",
   "outputs": [],
   "execution_count": 110
  },
  {
   "metadata": {},
   "cell_type": "markdown",
   "source": "### Loss Function",
   "id": "9cda3c634c35b65a"
  },
  {
   "metadata": {
    "ExecuteTime": {
     "end_time": "2024-05-08T07:51:42.832365Z",
     "start_time": "2024-05-08T07:51:42.828581Z"
    }
   },
   "cell_type": "code",
   "source": [
    "# Targets don't have to be one-hot encoded\n",
    "# Model output (criterion input) is expected to contain un-normalised inputs\n",
    "criterion = nn.CrossEntropyLoss()"
   ],
   "id": "d08a4634ebba18fb",
   "outputs": [],
   "execution_count": 111
  },
  {
   "metadata": {},
   "cell_type": "markdown",
   "source": "### Optimiser",
   "id": "8865e9ef05fddc1d"
  },
  {
   "metadata": {
    "ExecuteTime": {
     "end_time": "2024-05-08T07:51:42.841574Z",
     "start_time": "2024-05-08T07:51:42.832365Z"
    }
   },
   "cell_type": "code",
   "source": [
    "# Momentum pushes the optimiser towards the strongest gradient over multiple steps.\n",
    "optimiser = optim.SGD(model.parameters(), lr=0.001, momentum=0.9)"
   ],
   "id": "20a2162ba0341adf",
   "outputs": [],
   "execution_count": 112
  },
  {
   "metadata": {},
   "cell_type": "markdown",
   "source": "## Training",
   "id": "a782f64f80bee007"
  },
  {
   "metadata": {
    "ExecuteTime": {
     "end_time": "2024-05-08T07:51:42.848702Z",
     "start_time": "2024-05-08T07:51:42.843382Z"
    }
   },
   "cell_type": "code",
   "source": [
    "def train(dataloader, model, loss_fn, optimiser):\n",
    "    size = len(dataloader.dataset)\n",
    "    model.train()\n",
    "    for batch, (X, y) in enumerate(dataloader):\n",
    "        X, y = X.to(device), y.to(device)\n",
    "\n",
    "        # Compute prediction error\n",
    "        pred = model(X)\n",
    "        loss = loss_fn(pred, y)\n",
    "\n",
    "        # Backpropagation\n",
    "        loss.backward()\n",
    "        optimiser.step()\n",
    "        optimiser.zero_grad()\n",
    "        if batch % 10 == 9:\n",
    "            loss, current = loss.item(), (batch + 1) * len(X)\n",
    "            print(f\"Batch {batch+1}:\\nLoss: {loss:>7f}  [{current:>5d}/{size:>5d}]\")"
   ],
   "id": "58694d78902ace74",
   "outputs": [],
   "execution_count": 113
  },
  {
   "metadata": {
    "ExecuteTime": {
     "end_time": "2024-05-08T07:51:42.857359Z",
     "start_time": "2024-05-08T07:51:42.848702Z"
    }
   },
   "cell_type": "code",
   "source": [
    "def validate(dataloader, model, loss_fn):\n",
    "    size = len(dataloader.dataset)\n",
    "    num_batches = len(dataloader)\n",
    "    model.eval()\n",
    "    val_loss, correct = 0, 0\n",
    "    with torch.no_grad():\n",
    "        for X, y in dataloader:\n",
    "            X, y = X.to(device), y.to(device)\n",
    "            pred = model(X)\n",
    "            val_loss += loss_fn(pred, y).item()\n",
    "            correct += (pred.argmax(1) == y).type(torch.float).sum().item()\n",
    "    val_loss /= num_batches\n",
    "    correct /= size\n",
    "    print(f\"Test Error: \\nAccuracy: {(100*correct):>0.1f}%, Avg loss: {val_loss:>8f} \\n\")\n",
    "    return correct"
   ],
   "id": "2bb34caf05e2a2a",
   "outputs": [],
   "execution_count": 114
  },
  {
   "metadata": {
    "ExecuteTime": {
     "end_time": "2024-05-08T07:51:42.865002Z",
     "start_time": "2024-05-08T07:51:42.857359Z"
    }
   },
   "cell_type": "code",
   "source": "valid_loader = DataLoader(valid_dataset, batch_size, shuffle=True, num_workers=2, generator=torch.Generator(device=device))",
   "id": "7091cb974af44540",
   "outputs": [],
   "execution_count": 115
  },
  {
   "metadata": {
    "ExecuteTime": {
     "end_time": "2024-05-08T07:55:50.092568Z",
     "start_time": "2024-05-08T07:51:42.866010Z"
    }
   },
   "cell_type": "code",
   "source": [
    "epochs = 20\n",
    "start_time = time.time()\n",
    "losses = []\n",
    "best_acc = 0\n",
    "PATH = 'model8.pth'\n",
    "\n",
    "print(\"[INFO] Training starting...\")\n",
    "for e in range(epochs):\n",
    "    print(f\"Epoch {e+1}\\n-------------------------------\")\n",
    "    train(train_loader, model, criterion, optimiser)\n",
    "    val_acc = validate(valid_loader, model, criterion)\n",
    "    if val_acc > best_acc:\n",
    "        best_acc = val_acc\n",
    "        torch.save(model.state_dict(), PATH)\n",
    "        \n",
    "finish_time = time.time()\n",
    "print(\"[INFO] Testing and training completed.\")\n",
    "print(f\"Elapsed time: {math.floor((finish_time-start_time)/60)}:{math.floor((finish_time-start_time)%60)}\")"
   ],
   "id": "9cd1ab5843441f05",
   "outputs": [
    {
     "name": "stdout",
     "output_type": "stream",
     "text": [
      "[INFO] Training starting...\n",
      "Epoch 1\n",
      "-------------------------------\n",
      "Batch 10:\n",
      "Loss: 4.753922  [  160/ 1020]\n",
      "Batch 20:\n",
      "Loss: 4.678936  [  320/ 1020]\n",
      "Batch 30:\n",
      "Loss: 4.367628  [  480/ 1020]\n",
      "Batch 40:\n",
      "Loss: 4.619290  [  640/ 1020]\n",
      "Batch 50:\n",
      "Loss: 4.649464  [  800/ 1020]\n",
      "Batch 60:\n",
      "Loss: 4.396652  [  960/ 1020]\n",
      "Test Error: \n",
      "Accuracy: 10.1%, Avg loss: 4.020764 \n",
      "\n",
      "Epoch 2\n",
      "-------------------------------\n",
      "Batch 10:\n",
      "Loss: 3.684951  [  160/ 1020]\n",
      "Batch 20:\n",
      "Loss: 4.201075  [  320/ 1020]\n",
      "Batch 30:\n",
      "Loss: 3.935551  [  480/ 1020]\n",
      "Batch 40:\n",
      "Loss: 4.102117  [  640/ 1020]\n",
      "Batch 50:\n",
      "Loss: 3.709944  [  800/ 1020]\n",
      "Batch 60:\n",
      "Loss: 3.401676  [  960/ 1020]\n",
      "Test Error: \n",
      "Accuracy: 16.3%, Avg loss: 3.615940 \n",
      "\n",
      "Epoch 3\n",
      "-------------------------------\n",
      "Batch 10:\n",
      "Loss: 3.383027  [  160/ 1020]\n",
      "Batch 20:\n",
      "Loss: 3.317116  [  320/ 1020]\n",
      "Batch 30:\n",
      "Loss: 3.492873  [  480/ 1020]\n",
      "Batch 40:\n",
      "Loss: 3.462066  [  640/ 1020]\n",
      "Batch 50:\n",
      "Loss: 2.725525  [  800/ 1020]\n",
      "Batch 60:\n",
      "Loss: 3.309503  [  960/ 1020]\n",
      "Test Error: \n",
      "Accuracy: 19.7%, Avg loss: 3.351075 \n",
      "\n",
      "Epoch 4\n",
      "-------------------------------\n",
      "Batch 10:\n",
      "Loss: 2.547661  [  160/ 1020]\n",
      "Batch 20:\n",
      "Loss: 2.396064  [  320/ 1020]\n",
      "Batch 30:\n",
      "Loss: 2.770153  [  480/ 1020]\n",
      "Batch 40:\n",
      "Loss: 3.114023  [  640/ 1020]\n",
      "Batch 50:\n",
      "Loss: 2.790077  [  800/ 1020]\n",
      "Batch 60:\n",
      "Loss: 2.947078  [  960/ 1020]\n",
      "Test Error: \n",
      "Accuracy: 22.0%, Avg loss: 3.140975 \n",
      "\n",
      "Epoch 5\n",
      "-------------------------------\n",
      "Batch 10:\n",
      "Loss: 2.443742  [  160/ 1020]\n",
      "Batch 20:\n",
      "Loss: 2.867940  [  320/ 1020]\n",
      "Batch 30:\n",
      "Loss: 2.146477  [  480/ 1020]\n",
      "Batch 40:\n",
      "Loss: 2.724790  [  640/ 1020]\n",
      "Batch 50:\n",
      "Loss: 2.733809  [  800/ 1020]\n",
      "Batch 60:\n",
      "Loss: 3.074747  [  960/ 1020]\n",
      "Test Error: \n",
      "Accuracy: 23.6%, Avg loss: 3.108559 \n",
      "\n",
      "Epoch 6\n",
      "-------------------------------\n",
      "Batch 10:\n",
      "Loss: 2.511093  [  160/ 1020]\n",
      "Batch 20:\n",
      "Loss: 2.043139  [  320/ 1020]\n",
      "Batch 30:\n",
      "Loss: 1.671381  [  480/ 1020]\n",
      "Batch 40:\n",
      "Loss: 2.328963  [  640/ 1020]\n",
      "Batch 50:\n",
      "Loss: 2.528380  [  800/ 1020]\n",
      "Batch 60:\n",
      "Loss: 2.548831  [  960/ 1020]\n",
      "Test Error: \n",
      "Accuracy: 26.3%, Avg loss: 2.980447 \n",
      "\n",
      "Epoch 7\n",
      "-------------------------------\n",
      "Batch 10:\n",
      "Loss: 1.716240  [  160/ 1020]\n",
      "Batch 20:\n",
      "Loss: 2.862790  [  320/ 1020]\n",
      "Batch 30:\n",
      "Loss: 2.461240  [  480/ 1020]\n",
      "Batch 40:\n",
      "Loss: 2.173909  [  640/ 1020]\n",
      "Batch 50:\n",
      "Loss: 2.052364  [  800/ 1020]\n",
      "Batch 60:\n",
      "Loss: 2.921563  [  960/ 1020]\n",
      "Test Error: \n",
      "Accuracy: 29.8%, Avg loss: 2.843443 \n",
      "\n",
      "Epoch 8\n",
      "-------------------------------\n",
      "Batch 10:\n",
      "Loss: 1.733755  [  160/ 1020]\n",
      "Batch 20:\n",
      "Loss: 2.176864  [  320/ 1020]\n",
      "Batch 30:\n",
      "Loss: 1.714119  [  480/ 1020]\n",
      "Batch 40:\n",
      "Loss: 2.692207  [  640/ 1020]\n",
      "Batch 50:\n",
      "Loss: 1.536463  [  800/ 1020]\n",
      "Batch 60:\n",
      "Loss: 2.426529  [  960/ 1020]\n",
      "Test Error: \n",
      "Accuracy: 29.0%, Avg loss: 2.899425 \n",
      "\n",
      "Epoch 9\n",
      "-------------------------------\n",
      "Batch 10:\n",
      "Loss: 1.739256  [  160/ 1020]\n",
      "Batch 20:\n",
      "Loss: 1.595595  [  320/ 1020]\n",
      "Batch 30:\n",
      "Loss: 2.200114  [  480/ 1020]\n",
      "Batch 40:\n",
      "Loss: 2.420114  [  640/ 1020]\n",
      "Batch 50:\n",
      "Loss: 1.476914  [  800/ 1020]\n",
      "Batch 60:\n",
      "Loss: 1.655714  [  960/ 1020]\n",
      "Test Error: \n",
      "Accuracy: 30.0%, Avg loss: 2.865985 \n",
      "\n",
      "Epoch 10\n",
      "-------------------------------\n",
      "Batch 10:\n",
      "Loss: 1.001173  [  160/ 1020]\n",
      "Batch 20:\n",
      "Loss: 1.767627  [  320/ 1020]\n",
      "Batch 30:\n",
      "Loss: 1.331663  [  480/ 1020]\n",
      "Batch 40:\n",
      "Loss: 1.851769  [  640/ 1020]\n",
      "Batch 50:\n",
      "Loss: 1.959614  [  800/ 1020]\n",
      "Batch 60:\n",
      "Loss: 1.807764  [  960/ 1020]\n",
      "Test Error: \n",
      "Accuracy: 33.1%, Avg loss: 2.798466 \n",
      "\n",
      "Epoch 11\n",
      "-------------------------------\n",
      "Batch 10:\n",
      "Loss: 2.138925  [  160/ 1020]\n",
      "Batch 20:\n",
      "Loss: 1.847835  [  320/ 1020]\n",
      "Batch 30:\n",
      "Loss: 1.480435  [  480/ 1020]\n",
      "Batch 40:\n",
      "Loss: 1.628206  [  640/ 1020]\n",
      "Batch 50:\n",
      "Loss: 0.900427  [  800/ 1020]\n",
      "Batch 60:\n",
      "Loss: 1.578988  [  960/ 1020]\n",
      "Test Error: \n",
      "Accuracy: 32.2%, Avg loss: 2.744818 \n",
      "\n",
      "Epoch 12\n",
      "-------------------------------\n",
      "Batch 10:\n",
      "Loss: 1.520299  [  160/ 1020]\n",
      "Batch 20:\n",
      "Loss: 0.893282  [  320/ 1020]\n",
      "Batch 30:\n",
      "Loss: 1.620827  [  480/ 1020]\n",
      "Batch 40:\n",
      "Loss: 1.658005  [  640/ 1020]\n",
      "Batch 50:\n",
      "Loss: 1.137373  [  800/ 1020]\n",
      "Batch 60:\n",
      "Loss: 1.354858  [  960/ 1020]\n",
      "Test Error: \n",
      "Accuracy: 33.7%, Avg loss: 2.743033 \n",
      "\n",
      "Epoch 13\n",
      "-------------------------------\n",
      "Batch 10:\n",
      "Loss: 0.832689  [  160/ 1020]\n",
      "Batch 20:\n",
      "Loss: 0.913010  [  320/ 1020]\n",
      "Batch 30:\n",
      "Loss: 1.210486  [  480/ 1020]\n",
      "Batch 40:\n",
      "Loss: 0.758568  [  640/ 1020]\n",
      "Batch 50:\n",
      "Loss: 0.960627  [  800/ 1020]\n",
      "Batch 60:\n",
      "Loss: 1.760814  [  960/ 1020]\n",
      "Test Error: \n",
      "Accuracy: 33.4%, Avg loss: 2.769342 \n",
      "\n",
      "Epoch 14\n",
      "-------------------------------\n",
      "Batch 10:\n",
      "Loss: 1.224474  [  160/ 1020]\n",
      "Batch 20:\n",
      "Loss: 1.235546  [  320/ 1020]\n",
      "Batch 30:\n",
      "Loss: 0.708733  [  480/ 1020]\n",
      "Batch 40:\n",
      "Loss: 1.309915  [  640/ 1020]\n",
      "Batch 50:\n",
      "Loss: 1.289259  [  800/ 1020]\n",
      "Batch 60:\n",
      "Loss: 1.567813  [  960/ 1020]\n",
      "Test Error: \n",
      "Accuracy: 35.7%, Avg loss: 2.761968 \n",
      "\n",
      "Epoch 15\n",
      "-------------------------------\n",
      "Batch 10:\n",
      "Loss: 0.836061  [  160/ 1020]\n",
      "Batch 20:\n",
      "Loss: 1.348620  [  320/ 1020]\n",
      "Batch 30:\n",
      "Loss: 1.002149  [  480/ 1020]\n",
      "Batch 40:\n",
      "Loss: 0.939177  [  640/ 1020]\n",
      "Batch 50:\n",
      "Loss: 0.917403  [  800/ 1020]\n",
      "Batch 60:\n",
      "Loss: 1.249147  [  960/ 1020]\n",
      "Test Error: \n",
      "Accuracy: 33.7%, Avg loss: 2.843890 \n",
      "\n",
      "Epoch 16\n",
      "-------------------------------\n",
      "Batch 10:\n",
      "Loss: 0.758593  [  160/ 1020]\n",
      "Batch 20:\n",
      "Loss: 1.149863  [  320/ 1020]\n",
      "Batch 30:\n",
      "Loss: 0.736201  [  480/ 1020]\n",
      "Batch 40:\n",
      "Loss: 0.706461  [  640/ 1020]\n",
      "Batch 50:\n",
      "Loss: 1.297686  [  800/ 1020]\n",
      "Batch 60:\n",
      "Loss: 1.582712  [  960/ 1020]\n",
      "Test Error: \n",
      "Accuracy: 35.2%, Avg loss: 2.793331 \n",
      "\n",
      "Epoch 17\n",
      "-------------------------------\n",
      "Batch 10:\n",
      "Loss: 1.085108  [  160/ 1020]\n",
      "Batch 20:\n",
      "Loss: 1.326028  [  320/ 1020]\n",
      "Batch 30:\n",
      "Loss: 0.799785  [  480/ 1020]\n",
      "Batch 40:\n",
      "Loss: 0.695201  [  640/ 1020]\n",
      "Batch 50:\n",
      "Loss: 0.566152  [  800/ 1020]\n",
      "Batch 60:\n",
      "Loss: 0.888313  [  960/ 1020]\n",
      "Test Error: \n",
      "Accuracy: 37.9%, Avg loss: 2.702617 \n",
      "\n",
      "Epoch 18\n",
      "-------------------------------\n",
      "Batch 10:\n",
      "Loss: 0.984351  [  160/ 1020]\n",
      "Batch 20:\n",
      "Loss: 0.869196  [  320/ 1020]\n",
      "Batch 30:\n",
      "Loss: 0.747735  [  480/ 1020]\n",
      "Batch 40:\n",
      "Loss: 0.970483  [  640/ 1020]\n",
      "Batch 50:\n",
      "Loss: 1.221873  [  800/ 1020]\n",
      "Batch 60:\n",
      "Loss: 0.562523  [  960/ 1020]\n",
      "Test Error: \n",
      "Accuracy: 37.2%, Avg loss: 2.662336 \n",
      "\n",
      "Epoch 19\n",
      "-------------------------------\n",
      "Batch 10:\n",
      "Loss: 0.872403  [  160/ 1020]\n",
      "Batch 20:\n",
      "Loss: 0.412039  [  320/ 1020]\n",
      "Batch 30:\n",
      "Loss: 1.240251  [  480/ 1020]\n",
      "Batch 40:\n",
      "Loss: 0.841654  [  640/ 1020]\n",
      "Batch 50:\n",
      "Loss: 0.964338  [  800/ 1020]\n",
      "Batch 60:\n",
      "Loss: 1.207705  [  960/ 1020]\n",
      "Test Error: \n",
      "Accuracy: 38.2%, Avg loss: 2.726322 \n",
      "\n",
      "Epoch 20\n",
      "-------------------------------\n",
      "Batch 10:\n",
      "Loss: 1.102603  [  160/ 1020]\n",
      "Batch 20:\n",
      "Loss: 1.238572  [  320/ 1020]\n",
      "Batch 30:\n",
      "Loss: 1.049863  [  480/ 1020]\n",
      "Batch 40:\n",
      "Loss: 0.962883  [  640/ 1020]\n",
      "Batch 50:\n",
      "Loss: 1.155225  [  800/ 1020]\n",
      "Batch 60:\n",
      "Loss: 0.870899  [  960/ 1020]\n",
      "Test Error: \n",
      "Accuracy: 36.8%, Avg loss: 2.739152 \n",
      "\n",
      "[INFO] Testing and training completed.\n",
      "Elapsed time: 4:7\n"
     ]
    }
   ],
   "execution_count": 116
  },
  {
   "metadata": {
    "ExecuteTime": {
     "end_time": "2024-05-08T07:55:50.098813Z",
     "start_time": "2024-05-08T07:55:50.092568Z"
    }
   },
   "cell_type": "code",
   "source": [
    "# Test on test dataset\n",
    "test_loader = DataLoader(test_dataset, batch_size, shuffle=True, num_workers=2, generator=torch.Generator(device=device))"
   ],
   "id": "ba596cb3959a819",
   "outputs": [],
   "execution_count": 117
  },
  {
   "metadata": {
    "ExecuteTime": {
     "end_time": "2024-05-08T07:55:50.112266Z",
     "start_time": "2024-05-08T07:55:50.098813Z"
    }
   },
   "cell_type": "code",
   "source": [
    "def test(model, test_loader):\n",
    "    model.eval()\n",
    "    with torch.no_grad():\n",
    "        acc = .0\n",
    "        for i, data in enumerate(test_loader):\n",
    "            X = data[0].to(device)\n",
    "            y = data[1].to(device)\n",
    "\n",
    "            predicted = model(X)\n",
    "            \n",
    "            # Check each image's prediction\n",
    "            acc += (predicted.argmax(1) == y).type(torch.float).sum().item()\n",
    "    model.train()\n",
    "    return acc/len(test_loader.dataset)"
   ],
   "id": "8b1719a325d5026c",
   "outputs": [],
   "execution_count": 118
  },
  {
   "metadata": {
    "ExecuteTime": {
     "end_time": "2024-05-08T07:56:14.168609Z",
     "start_time": "2024-05-08T07:55:50.113434Z"
    }
   },
   "cell_type": "code",
   "source": [
    "test_model = MyNN8().to(device)\n",
    "test_model.load_state_dict(torch.load(PATH))\n",
    "test_acc = test(test_model, test_loader)"
   ],
   "id": "d99bfd918cf9edbf",
   "outputs": [],
   "execution_count": 119
  },
  {
   "metadata": {
    "ExecuteTime": {
     "end_time": "2024-05-08T07:56:14.173524Z",
     "start_time": "2024-05-08T07:56:14.169735Z"
    }
   },
   "cell_type": "code",
   "source": "print(f\"Test Accuracy: {test_acc*100:.2f}%\")",
   "id": "f5c1199807cf2c51",
   "outputs": [
    {
     "name": "stdout",
     "output_type": "stream",
     "text": [
      "Test Accuracy: 38.15%\n"
     ]
    }
   ],
   "execution_count": 120
  }
 ],
 "metadata": {
  "kernelspec": {
   "display_name": "Python 3",
   "language": "python",
   "name": "python3"
  },
  "language_info": {
   "codemirror_mode": {
    "name": "ipython",
    "version": 2
   },
   "file_extension": ".py",
   "mimetype": "text/x-python",
   "name": "python",
   "nbconvert_exporter": "python",
   "pygments_lexer": "ipython2",
   "version": "2.7.6"
  }
 },
 "nbformat": 4,
 "nbformat_minor": 5
}
